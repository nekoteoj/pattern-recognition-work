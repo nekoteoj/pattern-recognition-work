{
 "cells": [
  {
   "cell_type": "markdown",
   "metadata": {},
   "source": [
    "# Import Library"
   ]
  },
  {
   "cell_type": "code",
   "execution_count": 1,
   "metadata": {},
   "outputs": [],
   "source": [
    "import pandas as pd\n",
    "import numpy as np\n",
    "import matplotlib.pyplot as plt\n",
    "\n",
    "from typing import List"
   ]
  },
  {
   "cell_type": "markdown",
   "metadata": {},
   "source": [
    "# My useful function"
   ]
  },
  {
   "cell_type": "code",
   "execution_count": 2,
   "metadata": {},
   "outputs": [],
   "source": [
    "# Random n distinct number in range [start, end)\n",
    "def distinct_random(start:int , end: int, n: int) -> List[int]:\n",
    "    a = np.arange(start, end, dtype=int)\n",
    "    np.random.shuffle(a)\n",
    "    return a[:n]\n",
    "# Euclidian Distance\n",
    "def euclid_distance(x: np.array, y: np.array) -> float:\n",
    "    return np.sqrt(np.dot(x-y, x-y))"
   ]
  },
  {
   "cell_type": "markdown",
   "metadata": {},
   "source": [
    "# Clustering"
   ]
  },
  {
   "cell_type": "code",
   "execution_count": 3,
   "metadata": {},
   "outputs": [],
   "source": [
    "# Define dataframe\n",
    "df = pd.DataFrame()\n",
    "df['x'] = [1, 3, 2, 8, 6, 7, -3, -2, -7]\n",
    "df['y'] = [2, 3, 2, 8, 6, 7, -3, -4, -7]"
   ]
  },
  {
   "cell_type": "code",
   "execution_count": 4,
   "metadata": {},
   "outputs": [
    {
     "data": {
      "text/plain": [
       "[]"
      ]
     },
     "execution_count": 4,
     "metadata": {},
     "output_type": "execute_result"
    },
    {
     "data": {
      "image/png": "[encoded data removed]",
      "text/plain": [
       "<Figure size 432x288 with 1 Axes>"
      ]
     },
     "metadata": {},
     "output_type": "display_data"
    }
   ],
   "source": [
    "# Plotting Data\n",
    "plt.scatter(df['x'], df['y'], color='red')\n",
    "plt.plot()"
   ]
  },
  {
   "cell_type": "code",
   "execution_count": 24,
   "metadata": {},
   "outputs": [],
   "source": [
    "# K Means Implementation\n",
    "def train_kmean(df: pd.DataFrame, k: int, start_points=None):\n",
    "    if not start_points or len(start_points) != k:\n",
    "        start_points = distinct_random(0, df.shape[0], k)\n",
    "    \n",
    "    # Numpy array of data\n",
    "    data = df.values\n",
    "    \n",
    "    # Getting centroid of data\n",
    "    centroids = [data[i] for i in start_points[:]]\n",
    "    print('initial centroid:', centroids)\n",
    "    \n",
    "    should_iterate = True\n",
    "    while should_iterate:\n",
    "        cluster = [[] for i in range(k)]\n",
    "        # Assign point to cluster\n",
    "        for point in data:\n",
    "            min_index = np.argmin(list(map(lambda x: euclid_distance(point, x), centroids)))\n",
    "            cluster[min_index].append(point)\n",
    "        # calculate new centroid from mean\n",
    "        new_centroids = [np.array(c).mean(axis=0) for c in cluster]\n",
    "        print('cluster:', cluster)\n",
    "        print('new centroid:', new_centroids)\n",
    "        print()\n",
    "        should_iterate = False\n",
    "        for i in range(k):\n",
    "            if (not np.array_equal(centroids[i], new_centroids[i])):\n",
    "                should_iterate = True\n",
    "        centroids = new_centroids\n",
    "    return np.array(list(map(lambda x: np.array(x), cluster)))"
   ]
  },
  {
   "cell_type": "markdown",
   "metadata": {},
   "source": [
    "## T4"
   ]
  },
  {
   "cell_type": "code",
   "execution_count": 22,
   "metadata": {},
   "outputs": [
    {
     "name": "stdout",
     "output_type": "stream",
     "text": [
      "initial centroid: [array([3, 3]), array([2, 2]), array([-3, -3])]\n",
      "cluster: [[array([3, 3]), array([8, 8]), array([6, 6]), array([7, 7])], [array([1, 2]), array([2, 2])], [array([-3, -3]), array([-2, -4]), array([-7, -7])]]\n",
      "new centroid: [array([6., 6.]), array([1.5, 2. ]), array([-4.        , -4.66666667])]\n",
      "cluster: [[array([8, 8]), array([6, 6]), array([7, 7])], [array([1, 2]), array([3, 3]), array([2, 2])], [array([-3, -3]), array([-2, -4]), array([-7, -7])]]\n",
      "new centroid: [array([7., 7.]), array([2.        , 2.33333333]), array([-4.        , -4.66666667])]\n",
      "cluster: [[array([8, 8]), array([6, 6]), array([7, 7])], [array([1, 2]), array([3, 3]), array([2, 2])], [array([-3, -3]), array([-2, -4]), array([-7, -7])]]\n",
      "new centroid: [array([7., 7.]), array([2.        , 2.33333333]), array([-4.        , -4.66666667])]\n",
      "[[[ 8  8]\n",
      "  [ 6  6]\n",
      "  [ 7  7]]\n",
      "\n",
      " [[ 1  2]\n",
      "  [ 3  3]\n",
      "  [ 2  2]]\n",
      "\n",
      " [[-3 -3]\n",
      "  [-2 -4]\n",
      "  [-7 -7]]]\n"
     ]
    },
    {
     "data": {
      "text/plain": [
       "[]"
      ]
     },
     "execution_count": 22,
     "metadata": {},
     "output_type": "execute_result"
    },
    {
     "data": {
      "image/png": "[encoded data removed]",
      "text/plain": [
       "<Figure size 432x288 with 1 Axes>"
      ]
     },
     "metadata": {},
     "output_type": "display_data"
    }
   ],
   "source": [
    "result = train_kmean(df, 3, [1, 2, 6])\n",
    "print(result)\n",
    "# Plotting result\n",
    "for cluster in result:\n",
    "    plt.scatter(cluster[:,0], cluster[:,1])\n",
    "plt.plot()"
   ]
  },
  {
   "cell_type": "markdown",
   "metadata": {},
   "source": [
    "## T5"
   ]
  },
  {
   "cell_type": "code",
   "execution_count": 26,
   "metadata": {},
   "outputs": [
    {
     "name": "stdout",
     "output_type": "stream",
     "text": [
      "initial centroid: [array([-3, -3]), array([2, 2]), array([-7, -7])]\n",
      "cluster: [[array([-3, -3]), array([-2, -4])], [array([1, 2]), array([3, 3]), array([2, 2]), array([8, 8]), array([6, 6]), array([7, 7])], [array([-7, -7])]]\n",
      "new centroid: [array([-2.5, -3.5]), array([4.5       , 4.66666667]), array([-7., -7.])]\n",
      "\n",
      "cluster: [[array([-3, -3]), array([-2, -4])], [array([1, 2]), array([3, 3]), array([2, 2]), array([8, 8]), array([6, 6]), array([7, 7])], [array([-7, -7])]]\n",
      "new centroid: [array([-2.5, -3.5]), array([4.5       , 4.66666667]), array([-7., -7.])]\n",
      "\n",
      "[array([[-3, -3],\n",
      "       [-2, -4]])\n",
      " array([[1, 2],\n",
      "       [3, 3],\n",
      "       [2, 2],\n",
      "       [8, 8],\n",
      "       [6, 6],\n",
      "       [7, 7]])\n",
      " array([[-7, -7]])]\n"
     ]
    },
    {
     "data": {
      "text/plain": [
       "[]"
      ]
     },
     "execution_count": 26,
     "metadata": {},
     "output_type": "execute_result"
    },
    {
     "data": {
      "image/png": "[encoded data removed]",
      "text/plain": [
       "<Figure size 432x288 with 1 Axes>"
      ]
     },
     "metadata": {},
     "output_type": "display_data"
    }
   ],
   "source": [
    "result = train_kmean(df, 3, [6, 2, 8])\n",
    "print(result)\n",
    "# Plotting result\n",
    "for cluster in result:\n",
    "    plt.scatter(cluster[:,0], cluster[:,1])\n",
    "plt.plot()"
   ]
  },
  {
   "cell_type": "code",
   "execution_count": 20,
   "metadata": {},
   "outputs": [
    {
     "name": "stdout",
     "output_type": "stream",
     "text": [
      "initial centroid: [array([2, 2]), array([-2, -4]), array([7, 7]), array([1, 2]), array([-7, -7])]\n",
      "new centroid: [array([2.5, 2.5]), array([-2.5, -3.5]), array([7., 7.]), array([1., 2.]), array([-7., -7.])]\n",
      "new centroid: [array([2.5, 2.5]), array([-2.5, -3.5]), array([7., 7.]), array([1., 2.]), array([-7., -7.])]\n",
      "[array([[3, 3],\n",
      "       [2, 2]]) array([[-3, -3],\n",
      "       [-2, -4]])\n",
      " array([[8, 8],\n",
      "       [6, 6],\n",
      "       [7, 7]]) array([[1, 2]])\n",
      " array([[-7, -7]])]\n"
     ]
    },
    {
     "data": {
      "text/plain": [
       "[]"
      ]
     },
     "execution_count": 20,
     "metadata": {},
     "output_type": "execute_result"
    },
    {
     "data": {
      "image/png": "[encoded data removed]",
      "text/plain": [
       "<Figure size 432x288 with 1 Axes>"
      ]
     },
     "metadata": {},
     "output_type": "display_data"
    }
   ],
   "source": [
    "result = train_kmean(df, 5)\n",
    "print(result)\n",
    "# Plotting result\n",
    "for cluster in result:\n",
    "    plt.scatter(cluster[:,0], cluster[:,1])\n",
    "plt.plot()"
   ]
  },
  {
   "cell_type": "code",
   "execution_count": null,
   "metadata": {},
   "outputs": [],
   "source": []
  },
  {
   "cell_type": "code",
   "execution_count": null,
   "metadata": {},
   "outputs": [],
   "source": []
  }
 ],
 "metadata": {
  "kernelspec": {
   "display_name": "Python 3",
   "language": "python",
   "name": "python3"
  },
  "language_info": {
   "codemirror_mode": {
    "name": "ipython",
    "version": 3
   },
   "file_extension": ".py",
   "mimetype": "text/x-python",
   "name": "python",
   "nbconvert_exporter": "python",
   "pygments_lexer": "ipython3",
   "version": "3.7.0"
  }
 },
 "nbformat": 4,
 "nbformat_minor": 2
}
