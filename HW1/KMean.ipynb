{
 "cells": [
  {
   "cell_type": "markdown",
   "metadata": {},
   "source": [
    "# Import Library"
   ]
  },
  {
   "cell_type": "code",
   "execution_count": 1,
   "metadata": {},
   "outputs": [],
   "source": [
    "import pandas as pd\n",
    "import numpy as np\n",
    "import matplotlib.pyplot as plt\n",
    "from tqdm import tqdm\n",
    "\n",
    "from typing import List"
   ]
  },
  {
   "cell_type": "markdown",
   "metadata": {},
   "source": [
    "# My useful function"
   ]
  },
  {
   "cell_type": "code",
   "execution_count": 2,
   "metadata": {},
   "outputs": [],
   "source": [
    "# Random n distinct number in range [start, end)\n",
    "def distinct_random(start:int , end: int, n: int) -> List[int]:\n",
    "    a = np.arange(start, end, dtype=int)\n",
    "    np.random.shuffle(a)\n",
    "    return a[:n]\n",
    "# Euclidian Distance\n",
    "def euclid_distance(x: np.array, y: np.array) -> float:\n",
    "    return np.sqrt(np.dot(x-y, x-y))"
   ]
  },
  {
   "cell_type": "markdown",
   "metadata": {},
   "source": [
    "# Clustering"
   ]
  },
  {
   "cell_type": "code",
   "execution_count": 3,
   "metadata": {},
   "outputs": [],
   "source": [
    "# Define dataframe\n",
    "df = pd.DataFrame()\n",
    "df['x'] = [1, 3, 2, 8, 6, 7, -3, -2, -7]\n",
    "df['y'] = [2, 3, 2, 8, 6, 7, -3, -4, -7]"
   ]
  },
  {
   "cell_type": "code",
   "execution_count": 4,
   "metadata": {},
   "outputs": [
    {
     "data": {
      "text/plain": [
       "[]"
      ]
     },
     "execution_count": 4,
     "metadata": {},
     "output_type": "execute_result"
    },
    {
     "data": {
      "image/png": "[encoded data removed]",
      "text/plain": [
       "<Figure size 432x288 with 1 Axes>"
      ]
     },
     "metadata": {},
     "output_type": "display_data"
    }
   ],
   "source": [
    "# Plotting Data\n",
    "plt.scatter(df['x'], df['y'], color='red')\n",
    "plt.plot()"
   ]
  },
  {
   "cell_type": "code",
   "execution_count": 5,
   "metadata": {},
   "outputs": [],
   "source": [
    "# K Means Implementation\n",
    "def train_kmean(df: pd.DataFrame, k: int, start_points=None):\n",
    "    if not start_points or len(start_points) != k:\n",
    "        start_points = distinct_random(0, df.shape[0], k)\n",
    "    \n",
    "    # Numpy array of data\n",
    "    data = df.values\n",
    "    \n",
    "    # Getting centroid of data\n",
    "    centroids = [data[i] for i in start_points[:]]\n",
    "    print('initial centroid:', centroids)\n",
    "    \n",
    "    should_iterate = True\n",
    "    while should_iterate:\n",
    "        cluster = [[] for i in range(k)]\n",
    "        # Assign point to cluster\n",
    "        for point in data:\n",
    "            min_index = np.argmin(list(map(lambda x: euclid_distance(point, x), centroids)))\n",
    "            cluster[min_index].append(point)\n",
    "        # calculate new centroid from mean\n",
    "        new_centroids = [np.array(c).mean(axis=0) for c in cluster]\n",
    "        print('cluster:', cluster)\n",
    "        print('new centroid:', new_centroids)\n",
    "        print()\n",
    "        should_iterate = False\n",
    "        for i in range(k):\n",
    "            if (not np.array_equal(centroids[i], new_centroids[i])):\n",
    "                should_iterate = True\n",
    "        centroids = new_centroids\n",
    "    cost = 0\n",
    "    result = np.array(list(map(lambda x: np.array(x), cluster)))\n",
    "    for i in range(k):\n",
    "        cost += np.sum(np.sum((result[i] - centroids[i])**2, axis=1)) / data.shape[0]\n",
    "    print(\"Cost: \", cost)\n",
    "    return result"
   ]
  },
  {
   "cell_type": "markdown",
   "metadata": {},
   "source": [
    "## T4"
   ]
  },
  {
   "cell_type": "code",
   "execution_count": 6,
   "metadata": {},
   "outputs": [
    {
     "name": "stdout",
     "output_type": "stream",
     "text": [
      "initial centroid: [array([3, 3]), array([2, 2]), array([-3, -3])]\n",
      "cluster: [[array([3, 3]), array([8, 8]), array([6, 6]), array([7, 7])], [array([1, 2]), array([2, 2])], [array([-3, -3]), array([-2, -4]), array([-7, -7])]]\n",
      "new centroid: [array([6., 6.]), array([1.5, 2. ]), array([-4.        , -4.66666667])]\n",
      "\n",
      "cluster: [[array([8, 8]), array([6, 6]), array([7, 7])], [array([1, 2]), array([3, 3]), array([2, 2])], [array([-3, -3]), array([-2, -4]), array([-7, -7])]]\n",
      "new centroid: [array([7., 7.]), array([2.        , 2.33333333]), array([-4.        , -4.66666667])]\n",
      "\n",
      "cluster: [[array([8, 8]), array([6, 6]), array([7, 7])], [array([1, 2]), array([3, 3]), array([2, 2])], [array([-3, -3]), array([-2, -4]), array([-7, -7])]]\n",
      "new centroid: [array([7., 7.]), array([2.        , 2.33333333]), array([-4.        , -4.66666667])]\n",
      "\n",
      "Cost:  3.2592592592592586\n",
      "[[[ 8  8]\n",
      "  [ 6  6]\n",
      "  [ 7  7]]\n",
      "\n",
      " [[ 1  2]\n",
      "  [ 3  3]\n",
      "  [ 2  2]]\n",
      "\n",
      " [[-3 -3]\n",
      "  [-2 -4]\n",
      "  [-7 -7]]]\n"
     ]
    },
    {
     "data": {
      "text/plain": [
       "[]"
      ]
     },
     "execution_count": 6,
     "metadata": {},
     "output_type": "execute_result"
    },
    {
     "data": {
      "image/png": "[encoded data removed]",
      "text/plain": [
       "<Figure size 432x288 with 1 Axes>"
      ]
     },
     "metadata": {},
     "output_type": "display_data"
    }
   ],
   "source": [
    "result = train_kmean(df, 3, [1, 2, 6])\n",
    "print(result)\n",
    "# Plotting result\n",
    "for cluster in result:\n",
    "    plt.scatter(cluster[:,0], cluster[:,1])\n",
    "plt.plot()"
   ]
  },
  {
   "cell_type": "markdown",
   "metadata": {},
   "source": [
    "## T5"
   ]
  },
  {
   "cell_type": "code",
   "execution_count": 7,
   "metadata": {},
   "outputs": [
    {
     "name": "stdout",
     "output_type": "stream",
     "text": [
      "initial centroid: [array([-3, -3]), array([2, 2]), array([-7, -7])]\n",
      "cluster: [[array([-3, -3]), array([-2, -4])], [array([1, 2]), array([3, 3]), array([2, 2]), array([8, 8]), array([6, 6]), array([7, 7])], [array([-7, -7])]]\n",
      "new centroid: [array([-2.5, -3.5]), array([4.5       , 4.66666667]), array([-7., -7.])]\n",
      "\n",
      "cluster: [[array([-3, -3]), array([-2, -4])], [array([1, 2]), array([3, 3]), array([2, 2]), array([8, 8]), array([6, 6]), array([7, 7])], [array([-7, -7])]]\n",
      "new centroid: [array([-2.5, -3.5]), array([4.5       , 4.66666667]), array([-7., -7.])]\n",
      "\n",
      "Cost:  8.648148148148147\n",
      "[array([[-3, -3],\n",
      "       [-2, -4]])\n",
      " array([[1, 2],\n",
      "       [3, 3],\n",
      "       [2, 2],\n",
      "       [8, 8],\n",
      "       [6, 6],\n",
      "       [7, 7]])\n",
      " array([[-7, -7]])]\n"
     ]
    },
    {
     "data": {
      "text/plain": [
       "[]"
      ]
     },
     "execution_count": 7,
     "metadata": {},
     "output_type": "execute_result"
    },
    {
     "data": {
      "image/png": "[encoded data removed]",
      "text/plain": [
       "<Figure size 432x288 with 1 Axes>"
      ]
     },
     "metadata": {},
     "output_type": "display_data"
    }
   ],
   "source": [
    "result = train_kmean(df, 3, [6, 2, 8])\n",
    "print(result)\n",
    "# Plotting result\n",
    "for cluster in result:\n",
    "    plt.scatter(cluster[:,0], cluster[:,1])\n",
    "plt.plot()"
   ]
  },
  {
   "cell_type": "code",
   "execution_count": 8,
   "metadata": {},
   "outputs": [
    {
     "name": "stdout",
     "output_type": "stream",
     "text": [
      "initial centroid: [array([6, 6]), array([3, 3]), array([-7, -7]), array([7, 7]), array([-2, -4]), array([2, 2])]\n",
      "cluster: [[array([6, 6])], [array([3, 3])], [array([-7, -7])], [array([8, 8]), array([7, 7])], [array([-3, -3]), array([-2, -4])], [array([1, 2]), array([2, 2])]]\n",
      "new centroid: [array([6., 6.]), array([3., 3.]), array([-7., -7.]), array([7.5, 7.5]), array([-2.5, -3.5]), array([1.5, 2. ])]\n",
      "\n",
      "cluster: [[array([6, 6])], [array([3, 3])], [array([-7, -7])], [array([8, 8]), array([7, 7])], [array([-3, -3]), array([-2, -4])], [array([1, 2]), array([2, 2])]]\n",
      "new centroid: [array([6., 6.]), array([3., 3.]), array([-7., -7.]), array([7.5, 7.5]), array([-2.5, -3.5]), array([1.5, 2. ])]\n",
      "\n",
      "Cost:  0.2777777777777778\n",
      "[array([[6, 6]]) array([[3, 3]]) array([[-7, -7]])\n",
      " array([[8, 8],\n",
      "       [7, 7]]) array([[-3, -3],\n",
      "       [-2, -4]])\n",
      " array([[1, 2],\n",
      "       [2, 2]])]\n"
     ]
    },
    {
     "data": {
      "text/plain": [
       "[]"
      ]
     },
     "execution_count": 8,
     "metadata": {},
     "output_type": "execute_result"
    },
    {
     "data": {
      "image/png": "[encoded data removed]",
      "text/plain": [
       "<Figure size 432x288 with 1 Axes>"
      ]
     },
     "metadata": {},
     "output_type": "display_data"
    }
   ],
   "source": [
    "result = train_kmean(df, 6)\n",
    "print(result)\n",
    "# Plotting result\n",
    "for cluster in result:\n",
    "    plt.scatter(cluster[:,0], cluster[:,1])\n",
    "plt.plot()"
   ]
  },
  {
   "cell_type": "code",
   "execution_count": 9,
   "metadata": {},
   "outputs": [],
   "source": [
    "# K Means Implementation\n",
    "def train_kmean_iterate(df: pd.DataFrame, k: int, iteration=50):\n",
    "    # Numpy array of data\n",
    "    data = df.values\n",
    "    answer_cost = np.inf\n",
    "    answer_centroids = []\n",
    "    answer_result = []\n",
    "    \n",
    "    for i in tqdm(range(iteration)):\n",
    "        # Random Start point\n",
    "        start_points = distinct_random(0, df.shape[0], k)\n",
    "        # Getting centroid of data\n",
    "        centroids = [data[i] for i in start_points[:]]\n",
    "        #print('initial centroid:', centroids)\n",
    "\n",
    "        should_iterate = True\n",
    "        while should_iterate:\n",
    "            cluster = [[] for i in range(k)]\n",
    "            # Assign point to cluster\n",
    "            for point in data:\n",
    "                min_index = np.argmin(list(map(lambda x: euclid_distance(point, x), centroids)))\n",
    "                cluster[min_index].append(point)\n",
    "            # calculate new centroid from mean\n",
    "            new_centroids = [np.array(c).mean(axis=0) for c in cluster]\n",
    "            should_iterate = False\n",
    "            for i in range(k):\n",
    "                if (not np.array_equal(centroids[i], new_centroids[i])):\n",
    "                    should_iterate = True\n",
    "            centroids = new_centroids\n",
    "        empty_cluster = False\n",
    "        for c in cluster:\n",
    "            if not c:\n",
    "                empty_cluster = True\n",
    "        if empty_cluster:\n",
    "            break\n",
    "        cost = 0\n",
    "        result = np.array(list(map(lambda x: np.array(x), cluster)))\n",
    "        for i in range(k):\n",
    "            cost += np.sum(np.sum((result[i] - centroids[i])**2, axis=1)) / data.shape[0]\n",
    "        if answer_cost > cost:\n",
    "            answer_cost = cost\n",
    "            answer_centroids = centroids\n",
    "            answer_result = result\n",
    "    M = data.sum(axis=0) / data.shape[0]\n",
    "    between_clus_var = 0\n",
    "    for i in range(k):\n",
    "        between_clus_var += answer_result[i].shape[0] * ((answer_centroids[i] - M)**2).sum() / (data.shape[0] - 1)\n",
    "    all_data_var = ((data - M)**2).sum(axis=1).sum(axis=0) / (data.shape[0] - 1)\n",
    "    print('between clus var:', between_clus_var)\n",
    "    print('all data var', all_data_var)\n",
    "    return between_clus_var / all_data_var"
   ]
  },
  {
   "cell_type": "code",
   "execution_count": 10,
   "metadata": {},
   "outputs": [
    {
     "name": "stderr",
     "output_type": "stream",
     "text": [
      "100%|██████████| 50/50 [00:00<00:00, 932.10it/s]\n",
      "100%|██████████| 50/50 [00:00<00:00, 634.29it/s]\n",
      " 78%|███████▊  | 39/50 [00:00<00:00, 387.81it/s]"
     ]
    },
    {
     "name": "stdout",
     "output_type": "stream",
     "text": [
      "between clus var: 0.0\n",
      "all data var 52.277777777777786\n",
      "k = 1 and frac var = 0.0\n",
      "between clus var: 39.84027777777778\n",
      "all data var 52.277777777777786\n",
      "k = 2 and frac var = 0.762088204038257\n"
     ]
    },
    {
     "name": "stderr",
     "output_type": "stream",
     "text": [
      "100%|██████████| 50/50 [00:00<00:00, 360.79it/s]\n",
      "100%|██████████| 50/50 [00:00<00:00, 582.82it/s]\n",
      " 88%|████████▊ | 44/50 [00:00<00:00, 439.19it/s]"
     ]
    },
    {
     "name": "stdout",
     "output_type": "stream",
     "text": [
      "between clus var: 48.611111111111114\n",
      "all data var 52.277777777777786\n",
      "k = 3 and frac var = 0.9298618490967056\n",
      "between clus var: 51.31944444444444\n",
      "all data var 52.277777777777786\n",
      "k = 4 and frac var = 0.9816684378320933\n"
     ]
    },
    {
     "name": "stderr",
     "output_type": "stream",
     "text": [
      "\r",
      "100%|██████████| 50/50 [00:00<00:00, 421.37it/s]"
     ]
    },
    {
     "name": "stdout",
     "output_type": "stream",
     "text": [
      "between clus var: 51.69444444444444\n",
      "all data var 52.277777777777786\n",
      "k = 5 and frac var = 0.9888416578108393\n"
     ]
    },
    {
     "name": "stderr",
     "output_type": "stream",
     "text": [
      "\n"
     ]
    },
    {
     "data": {
      "text/plain": [
       "[]"
      ]
     },
     "execution_count": 10,
     "metadata": {},
     "output_type": "execute_result"
    },
    {
     "data": {
      "image/png": "[encoded data removed]",
      "text/plain": [
       "<Figure size 432x288 with 1 Axes>"
      ]
     },
     "metadata": {},
     "output_type": "display_data"
    }
   ],
   "source": [
    "x = []\n",
    "y = []\n",
    "for k in range(1, 6):\n",
    "    x.append(k)\n",
    "    y.append(train_kmean_iterate(df, k, 50))\n",
    "    print(f\"k = {k} and frac var = {y[-1]}\")\n",
    "plt.plot(np.array(x), np.array(y))\n",
    "plt.plot()"
   ]
  },
  {
   "cell_type": "code",
   "execution_count": null,
   "metadata": {},
   "outputs": [],
   "source": []
  },
  {
   "cell_type": "code",
   "execution_count": null,
   "metadata": {},
   "outputs": [],
   "source": []
  }
 ],
 "metadata": {
  "kernelspec": {
   "display_name": "Python 3",
   "language": "python",
   "name": "python3"
  },
  "language_info": {
   "codemirror_mode": {
    "name": "ipython",
    "version": 3
   },
   "file_extension": ".py",
   "mimetype": "text/x-python",
   "name": "python",
   "nbconvert_exporter": "python",
   "pygments_lexer": "ipython3",
   "version": "3.7.0"
  }
 },
 "nbformat": 4,
 "nbformat_minor": 2
}
