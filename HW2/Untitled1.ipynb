{
 "cells": [
  {
   "cell_type": "code",
   "execution_count": 1,
   "metadata": {},
   "outputs": [
    {
     "name": "stdout",
     "output_type": "stream",
     "text": [
      "decision boundry for equaled priors =  2.50000000000000\n",
      "decision boundry for prior=0.8 for happy cat =  1.94548225555204\n"
     ]
    },
    {
     "data": {
      "text/plain": [
       "<Figure size 640x480 with 1 Axes>"
      ]
     },
     "metadata": {},
     "output_type": "display_data"
    },
    {
     "name": "stdout",
     "output_type": "stream",
     "text": [
      "changing the distribution of the second class...\n",
      "decision boundry for the new distribution of Sad cat =  2.73552557150624\n"
     ]
    },
    {
     "data": {
      "text/plain": [
       "<Figure size 640x480 with 1 Axes>"
      ]
     },
     "metadata": {},
     "output_type": "display_data"
    }
   ],
   "source": [
    "import numpy as np\n",
    "import pandas as pd\n",
    "import matplotlib.pyplot as plt\n",
    "from scipy.stats import norm\n",
    "from sympy.solvers import solve\n",
    "from sympy import *\n",
    "import math\n",
    "w1_mu = 5\n",
    "w1_varian = 2\n",
    "w1_sigma = math.sqrt(w1_varian)\n",
    "w1_prior = 0.5\n",
    "w1_x = np.linspace(w1_mu - 3*w1_sigma, w1_mu + 3*w1_sigma, 100)\n",
    "plt.plot(w1_x, w1_prior*norm.pdf(w1_x, w1_mu, w1_sigma), label=\"w1 class (Happy cat)\")\n",
    "w2_mu = 0\n",
    "w2_varian = 2\n",
    "w2_sigma = math.sqrt(w2_varian)\n",
    "w2_prior = 0.5\n",
    "w2_x = np.linspace(w2_mu - 3*w2_sigma, w2_mu + 3*w2_sigma, 100)\n",
    "plt.plot(w2_x, w2_prior*norm.pdf(w2_x, w2_mu, w2_sigma), label=\"w2 class (Sad cat)\")\n",
    "x = Symbol('x')\n",
    "dec_boundry = solve(w1_prior*(1/(w1_sigma*sqrt(2*pi)))*(exp((-1/2)*((x-w1_mu)/w1_sigma)**2))-w2_prior*(1/(w2_sigma*sqrt(2*pi)))*(exp((-1/2)*((x-w2_mu)/w2_sigma)**2)), x, rational=False)\n",
    "print(\"decision boundry for equaled priors = \", dec_boundry[0])\n",
    "w1_prior = 0.8\n",
    "w2_prior = 0.2\n",
    "dec_boundry = solve(w1_prior*(1/(w1_sigma*sqrt(2*pi)))*(exp((-1/2)*((x-w1_mu)/w1_sigma)**2))-w2_prior*(1/(w2_sigma*sqrt(2*pi)))*(exp((-1/2)*((x-w2_mu)/w2_sigma)**2)), x, rational=False)\n",
    "print(\"decision boundry for prior=0.8 for happy cat = \", dec_boundry[0])\n",
    "plt.show()\n",
    "print(\"changing the distribution of the second class...\")\n",
    "w2_mu = 0\n",
    "w2_varian = 4\n",
    "w2_sigma = math.sqrt(w2_varian)\n",
    "w1_prior = 0.5\n",
    "w2_prior = 0.5\n",
    "dec_boundry = solve(w1_prior*(1/(w1_sigma*sqrt(2*pi)))*(exp((-1/2)*((x-w1_mu)/w1_sigma)**2))-w2_prior*(1/(w2_sigma*sqrt(2*pi)))*(exp((-1/2)*((x-w2_mu)/w2_sigma)**2)), x, rational=False)\n",
    "print(\"decision boundry for the new distribution of Sad cat = \", dec_boundry[0])\n",
    "w1_x = np.linspace(w1_mu - 3*w1_sigma, w1_mu + 3*w1_sigma, 100)\n",
    "plt.plot(w1_x, w1_prior*norm.pdf(w1_x, w1_mu, w1_sigma), label=\"w1 class (Happy cat)\")\n",
    "w2_x = np.linspace(w2_mu - 3*w2_sigma, w2_mu + 3*w2_sigma, 100)\n",
    "plt.plot(w2_x, w2_prior*norm.pdf(w2_x, w2_mu, w2_sigma), label=\"w2 class (Sad cat)\")\n",
    "plt.show()"
   ]
  },
  {
   "cell_type": "code",
   "execution_count": null,
   "metadata": {},
   "outputs": [],
   "source": []
  }
 ],
 "metadata": {
  "kernelspec": {
   "display_name": "Python 3",
   "language": "python",
   "name": "python3"
  },
  "language_info": {
   "codemirror_mode": {
    "name": "ipython",
    "version": 3
   },
   "file_extension": ".py",
   "mimetype": "text/x-python",
   "name": "python",
   "nbconvert_exporter": "python",
   "pygments_lexer": "ipython3",
   "version": "3.7.0"
  }
 },
 "nbformat": 4,
 "nbformat_minor": 2
}
