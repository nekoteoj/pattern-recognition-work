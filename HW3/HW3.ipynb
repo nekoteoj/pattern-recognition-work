{
 "cells": [
  {
   "cell_type": "code",
   "execution_count": 1,
   "metadata": {
    "collapsed": false
   },
   "outputs": [],
   "source": [
    "import numpy as np\n",
    "import pandas as pd\n",
    "import matplotlib.pyplot as plt\n",
    "from scipy.stats import multivariate_normal"
   ]
  },
  {
   "cell_type": "markdown",
   "metadata": {},
   "source": [
    "## T1"
   ]
  },
  {
   "cell_type": "code",
   "execution_count": 2,
   "metadata": {
    "collapsed": false
   },
   "outputs": [],
   "source": [
    "def gaussian_eq(x, mean, var):\n",
    "    return np.diagonal(np.exp(-0.5 * (x - mean).dot(np.linalg.inv(var)).dot((x - mean).T))\n",
    "                       / np.sqrt(2*np.pi * np.linalg.det(var)))\n",
    "\n",
    "def soft_em(data, k, means, iters):\n",
    "    # Initialize step\n",
    "    m = np.array([1/k] * k, dtype=float)\n",
    "    var = np.array([np.identity(2) for i in range(k)], dtype=float)\n",
    "    \n",
    "    for it in range(iters):\n",
    "        # Expectation\n",
    "        w = np.zeros((data.shape[0], k))\n",
    "        for j in range(k):\n",
    "            w[:, j] = gaussian_eq(data, means[j], var[j]) * m[j]\n",
    "        w = np.divide(w, np.sum(w, axis=1)[:, None])\n",
    "        \n",
    "        # Maximization\n",
    "        for j in range(k):\n",
    "            m[j] = w[:, j].sum() / data.shape[0]\n",
    "            var_j = np.zeros((2, 2))\n",
    "            for i in range(data.shape[0]):\n",
    "                var_j += w[i, j] * (data[i] - mean[j]).T.dot(data[i] - mean[j])\n",
    "            var_j /= np.sum(w[:, j])\n",
    "            var_j[0, 1] = var_j[1, 0] = 0\n",
    "            var[j] = var_j\n",
    "            mean[j] = np.sum(data * w[:, j].reshape(-1, 1)) / np.sum(w[:, j])\n",
    "            \n",
    "        # Display Result\n",
    "        print(\"Iteration: \", it)\n",
    "        print(\"w: \", w)\n",
    "        print(\"m: \", m)\n",
    "        print(\"Cov: \", var)\n",
    "        print(\"\\n\", \"=\"*50, \"\\n\")\n",
    "    return w"
   ]
  },
  {
   "cell_type": "code",
   "execution_count": 3,
   "metadata": {
    "collapsed": false
   },
   "outputs": [
    {
     "data": {
      "text/plain": [
       "array([[ 1,  2],\n",
       "       [ 3,  3],\n",
       "       [ 2,  2],\n",
       "       [ 8,  8],\n",
       "       [ 6,  6],\n",
       "       [ 7,  7],\n",
       "       [-3, -3],\n",
       "       [-2, -4],\n",
       "       [-7, -7]])"
      ]
     },
     "execution_count": 3,
     "metadata": {},
     "output_type": "execute_result"
    }
   ],
   "source": [
    "data_x = np.array([1, 3, 2, 8, 6, 7, -3, -2, -7])\n",
    "data_y = np.array([2, 3, 2, 8, 6, 7, -3, -4, -7])\n",
    "data = np.array([data_x, data_y]).T\n",
    "data"
   ]
  },
  {
   "cell_type": "code",
   "execution_count": 4,
   "metadata": {
    "collapsed": false
   },
   "outputs": [
    {
     "data": {
      "text/plain": [
       "array([[ 3,  3],\n",
       "       [ 2,  2],\n",
       "       [-3, -3]])"
      ]
     },
     "execution_count": 4,
     "metadata": {},
     "output_type": "execute_result"
    }
   ],
   "source": [
    "mean_x = np.array([3, 2, -3])\n",
    "mean_y = np.array([3, 2, -3])\n",
    "mean = np.array([mean_x, mean_y]).T\n",
    "mean"
   ]
  },
  {
   "cell_type": "code",
   "execution_count": 5,
   "metadata": {
    "collapsed": false,
    "scrolled": true
   },
   "outputs": [
    {
     "name": "stdout",
     "output_type": "stream",
     "text": [
      "Iteration:  0\n",
      "w:  [[  1.19202922e-01   8.80797076e-01   1.81545808e-09]\n",
      " [  7.31058579e-01   2.68941421e-01   1.69570706e-16]\n",
      " [  2.68941421e-01   7.31058579e-01   1.01529005e-11]\n",
      " [  9.99983299e-01   1.67014218e-05   2.03105874e-42]\n",
      " [  9.99088949e-01   9.11051194e-04   5.37528453e-32]\n",
      " [  9.99876605e-01   1.23394576e-04   3.30529272e-37]\n",
      " [  2.31952283e-16   1.38879439e-11   1.00000000e+00]\n",
      " [  2.31952283e-16   1.38879439e-11   1.00000000e+00]\n",
      " [  3.30570063e-37   5.90009054e-29   1.00000000e+00]]\n",
      "m:  [ 0.45757242  0.20909425  0.33333333]\n",
      "Cov:  [[[ 24.55293548   0.        ]\n",
      "  [  0.          24.55293548]]\n",
      "\n",
      " [[  0.77328542   0.        ]\n",
      "  [  0.           0.77328542]]\n",
      "\n",
      " [[ 11.33333335   0.        ]\n",
      "  [  0.          11.33333335]]]\n",
      "\n",
      " ================================================== \n",
      "\n",
      "Iteration:  1\n",
      "w:  [[  4.19395510e-02   9.57161798e-01   8.98651358e-04]\n",
      " [  5.05955731e-03   9.94937945e-01   2.49794320e-06]\n",
      " [  9.18771589e-03   9.90754462e-01   5.78225470e-05]\n",
      " [  1.00000000e+00   1.90667375e-13   3.52704929e-10]\n",
      " [  9.99645793e-01   3.54072158e-04   1.34732744e-07]\n",
      " [  9.99999964e-01   2.87538099e-08   7.23021595e-09]\n",
      " [  1.95938980e-03   5.03758380e-19   9.98040610e-01]\n",
      " [  2.05452513e-03   1.50965773e-19   9.97945475e-01]\n",
      " [  1.28592129e-06   6.91117226e-56   9.99998714e-01]]\n",
      "m:  [ 0.33998309  0.32702314  0.33299377]\n",
      "Cov:  [[[ 36.37036397   0.        ]\n",
      "  [  0.          36.37036397]]\n",
      "\n",
      " [[  2.30146542   0.        ]\n",
      "  [  0.           2.30146542]]\n",
      "\n",
      " [[ 34.69203188   0.        ]\n",
      "  [  0.          34.69203188]]]\n",
      "\n",
      " ================================================== \n",
      "\n",
      "Iteration:  2\n",
      "w:  [[  2.60685677e-02   8.98621635e-01   7.53097970e-02]\n",
      " [  6.43522608e-03   9.90406841e-01   3.15793339e-03]\n",
      " [  1.29773921e-02   9.66241192e-01   2.07814160e-02]\n",
      " [  9.70694894e-01   2.80681651e-02   1.23694060e-03]\n",
      " [  8.85135148e-02   9.10256299e-01   1.23018654e-03]\n",
      " [  5.48413126e-01   4.49275877e-01   2.31099635e-03]\n",
      " [  1.75322536e-03   1.72226627e-08   9.98246757e-01]\n",
      " [  1.75555488e-03   1.14792732e-08   9.98244434e-01]\n",
      " [  1.67748616e-05   2.23748728e-22   9.99983225e-01]]\n",
      "m:  [ 0.18406981  0.47143     0.34450019]\n",
      "Cov:  [[[ 66.30575299   0.        ]\n",
      "  [  0.          66.30575299]]\n",
      "\n",
      " [[  8.87607314   0.        ]\n",
      "  [  0.           8.87607314]]\n",
      "\n",
      " [[ 40.16385053   0.        ]\n",
      "  [  0.          40.16385053]]]\n",
      "\n",
      " ================================================== \n",
      "\n"
     ]
    }
   ],
   "source": [
    "w = soft_em(data, 3, mean, 3)"
   ]
  },
  {
   "cell_type": "code",
   "execution_count": 6,
   "metadata": {
    "collapsed": false
   },
   "outputs": [],
   "source": [
    "clusters = [[] for i in range(w.shape[1])]\n",
    "for i, row in enumerate(w):\n",
    "    clusters[np.argmax(row)].append(data[i])\n",
    "for i, cluster in enumerate(clusters):\n",
    "    cluster = np.array(cluster)\n",
    "    plt.scatter(cluster[:, 0], cluster[:, 1], color=[\"red\", \"green\", \"blue\"][i])\n",
    "plt.show()"
   ]
  },
  {
   "cell_type": "code",
   "execution_count": null,
   "metadata": {
    "collapsed": true
   },
   "outputs": [],
   "source": []
  }
 ],
 "metadata": {
  "kernelspec": {
   "display_name": "Python 3",
   "language": "python",
   "name": "python3"
  },
  "language_info": {
   "codemirror_mode": {
    "name": "ipython",
    "version": 3
   },
   "file_extension": ".py",
   "mimetype": "text/x-python",
   "name": "python",
   "nbconvert_exporter": "python",
   "pygments_lexer": "ipython3",
   "version": "3.5.3"
  }
 },
 "nbformat": 4,
 "nbformat_minor": 0
}
