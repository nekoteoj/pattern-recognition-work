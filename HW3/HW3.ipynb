{
 "cells": [
  {
   "cell_type": "code",
   "execution_count": 1,
   "metadata": {},
   "outputs": [],
   "source": [
    "import numpy as np\n",
    "import pandas as pd\n",
    "import matplotlib.pyplot as plt\n",
    "import matplotlib.image as mpimg\n",
    "import scipy.io\n",
    "\n",
    "from skimage import img_as_float\n",
    "from tqdm import tqdm_notebook"
   ]
  },
  {
   "cell_type": "markdown",
   "metadata": {},
   "source": [
    "## T1"
   ]
  },
  {
   "cell_type": "code",
   "execution_count": 2,
   "metadata": {},
   "outputs": [],
   "source": [
    "def gaussian_eq(x, mean, var):\n",
    "    return np.diagonal(np.exp(-0.5 * (x - mean).dot(np.linalg.inv(var)).dot((x - mean).T))\n",
    "                       / np.sqrt(2*np.pi * np.linalg.det(var)))\n",
    "\n",
    "def soft_em(data, k, means, iters):\n",
    "    # Initialize step\n",
    "    m = np.array([1/k] * k, dtype=float)\n",
    "    var = np.array([np.identity(2) for i in range(k)], dtype=float)\n",
    "    \n",
    "    for it in range(iters):\n",
    "        # Expectation\n",
    "        w = np.zeros((data.shape[0], k))\n",
    "        for j in range(k):\n",
    "            w[:, j] = gaussian_eq(data, means[j], var[j]) * m[j]\n",
    "        w = np.divide(w, np.sum(w, axis=1)[:, None])\n",
    "        \n",
    "        # Maximization\n",
    "        for j in range(k):\n",
    "            m[j] = w[:, j].sum() / data.shape[0]\n",
    "            var_j = np.zeros((2, 2))\n",
    "            for i in range(data.shape[0]):\n",
    "                var_j += w[i, j] * (data[i] - mean[j]).T.dot(data[i] - mean[j])\n",
    "            var_j /= np.sum(w[:, j])\n",
    "            var_j[0, 1] = var_j[1, 0] = 0\n",
    "            var[j] = var_j\n",
    "            mean[j] = np.sum(data * w[:, j].reshape(-1, 1)) / np.sum(w[:, j])\n",
    "            \n",
    "        # Display Result\n",
    "        print(\"Iteration: \", it)\n",
    "        print(\"w: \", w)\n",
    "        print(\"m: \", m)\n",
    "        print(\"Cov: \", var)\n",
    "        print(\"\\n\", \"=\"*50, \"\\n\")\n",
    "    return w"
   ]
  },
  {
   "cell_type": "code",
   "execution_count": 3,
   "metadata": {},
   "outputs": [
    {
     "data": {
      "text/plain": [
       "array([[ 1,  2],\n",
       "       [ 3,  3],\n",
       "       [ 2,  2],\n",
       "       [ 8,  8],\n",
       "       [ 6,  6],\n",
       "       [ 7,  7],\n",
       "       [-3, -3],\n",
       "       [-2, -4],\n",
       "       [-7, -7]])"
      ]
     },
     "execution_count": 3,
     "metadata": {},
     "output_type": "execute_result"
    }
   ],
   "source": [
    "data_x = np.array([1, 3, 2, 8, 6, 7, -3, -2, -7])\n",
    "data_y = np.array([2, 3, 2, 8, 6, 7, -3, -4, -7])\n",
    "data = np.array([data_x, data_y]).T\n",
    "data"
   ]
  },
  {
   "cell_type": "code",
   "execution_count": 4,
   "metadata": {},
   "outputs": [
    {
     "data": {
      "text/plain": [
       "array([[ 3,  3],\n",
       "       [ 2,  2],\n",
       "       [-3, -3]])"
      ]
     },
     "execution_count": 4,
     "metadata": {},
     "output_type": "execute_result"
    }
   ],
   "source": [
    "mean_x = np.array([3, 2, -3])\n",
    "mean_y = np.array([3, 2, -3])\n",
    "mean = np.array([mean_x, mean_y]).T\n",
    "mean"
   ]
  },
  {
   "cell_type": "code",
   "execution_count": 5,
   "metadata": {
    "scrolled": true
   },
   "outputs": [
    {
     "name": "stdout",
     "output_type": "stream",
     "text": [
      "Iteration:  0\n",
      "w:  [[1.19202922e-01 8.80797076e-01 1.81545808e-09]\n",
      " [7.31058579e-01 2.68941421e-01 1.69570706e-16]\n",
      " [2.68941421e-01 7.31058579e-01 1.01529005e-11]\n",
      " [9.99983299e-01 1.67014218e-05 2.03105874e-42]\n",
      " [9.99088949e-01 9.11051194e-04 5.37528453e-32]\n",
      " [9.99876605e-01 1.23394576e-04 3.30529272e-37]\n",
      " [2.31952283e-16 1.38879439e-11 1.00000000e+00]\n",
      " [2.31952283e-16 1.38879439e-11 1.00000000e+00]\n",
      " [3.30570063e-37 5.90009054e-29 1.00000000e+00]]\n",
      "m:  [0.45757242 0.20909425 0.33333333]\n",
      "Cov:  [[[24.55293548  0.        ]\n",
      "  [ 0.         24.55293548]]\n",
      "\n",
      " [[ 0.77328542  0.        ]\n",
      "  [ 0.          0.77328542]]\n",
      "\n",
      " [[11.33333335  0.        ]\n",
      "  [ 0.         11.33333335]]]\n",
      "\n",
      " ================================================== \n",
      "\n",
      "Iteration:  1\n",
      "w:  [[4.19395510e-02 9.57161798e-01 8.98651358e-04]\n",
      " [5.05955731e-03 9.94937945e-01 2.49794320e-06]\n",
      " [9.18771589e-03 9.90754462e-01 5.78225470e-05]\n",
      " [1.00000000e+00 1.90667375e-13 3.52704929e-10]\n",
      " [9.99645793e-01 3.54072158e-04 1.34732744e-07]\n",
      " [9.99999964e-01 2.87538099e-08 7.23021595e-09]\n",
      " [1.95938980e-03 5.03758380e-19 9.98040610e-01]\n",
      " [2.05452513e-03 1.50965773e-19 9.97945475e-01]\n",
      " [1.28592129e-06 6.91117226e-56 9.99998714e-01]]\n",
      "m:  [0.33998309 0.32702314 0.33299377]\n",
      "Cov:  [[[36.37036397  0.        ]\n",
      "  [ 0.         36.37036397]]\n",
      "\n",
      " [[ 2.30146542  0.        ]\n",
      "  [ 0.          2.30146542]]\n",
      "\n",
      " [[34.69203188  0.        ]\n",
      "  [ 0.         34.69203188]]]\n",
      "\n",
      " ================================================== \n",
      "\n",
      "Iteration:  2\n",
      "w:  [[2.60685677e-02 8.98621635e-01 7.53097970e-02]\n",
      " [6.43522608e-03 9.90406841e-01 3.15793339e-03]\n",
      " [1.29773921e-02 9.66241192e-01 2.07814160e-02]\n",
      " [9.70694894e-01 2.80681651e-02 1.23694060e-03]\n",
      " [8.85135148e-02 9.10256299e-01 1.23018654e-03]\n",
      " [5.48413126e-01 4.49275877e-01 2.31099635e-03]\n",
      " [1.75322536e-03 1.72226627e-08 9.98246757e-01]\n",
      " [1.75555488e-03 1.14792732e-08 9.98244434e-01]\n",
      " [1.67748616e-05 2.23748728e-22 9.99983225e-01]]\n",
      "m:  [0.18406981 0.47143    0.34450019]\n",
      "Cov:  [[[66.30575299  0.        ]\n",
      "  [ 0.         66.30575299]]\n",
      "\n",
      " [[ 8.87607314  0.        ]\n",
      "  [ 0.          8.87607314]]\n",
      "\n",
      " [[40.16385053  0.        ]\n",
      "  [ 0.         40.16385053]]]\n",
      "\n",
      " ================================================== \n",
      "\n"
     ]
    }
   ],
   "source": [
    "w = soft_em(data, 3, mean, 3)"
   ]
  },
  {
   "cell_type": "code",
   "execution_count": 6,
   "metadata": {},
   "outputs": [
    {
     "data": {
      "image/png": "[encoded data removed]",
      "text/plain": [
       "<Figure size 432x288 with 1 Axes>"
      ]
     },
     "metadata": {
      "needs_background": "light"
     },
     "output_type": "display_data"
    }
   ],
   "source": [
    "clusters = [[] for i in range(w.shape[1])]\n",
    "for i, row in enumerate(w):\n",
    "    clusters[np.argmax(row)].append(data[i])\n",
    "for i, cluster in enumerate(clusters):\n",
    "    cluster = np.array(cluster)\n",
    "    plt.scatter(cluster[:, 0], cluster[:, 1], color=[\"red\", \"green\", \"blue\"][i])\n",
    "plt.show()"
   ]
  },
  {
   "cell_type": "markdown",
   "metadata": {
    "collapsed": true
   },
   "source": [
    "# The face database"
   ]
  },
  {
   "cell_type": "code",
   "execution_count": 7,
   "metadata": {},
   "outputs": [],
   "source": [
    "x = scipy.io.loadmat(\"facedata.mat\")"
   ]
  },
  {
   "cell_type": "code",
   "execution_count": 27,
   "metadata": {},
   "outputs": [
    {
     "data": {
      "image/png": "[encoded data removed]",
      "text/plain": [
       "<Figure size 432x288 with 1 Axes>"
      ]
     },
     "metadata": {
      "needs_background": "light"
     },
     "output_type": "display_data"
    }
   ],
   "source": [
    "plt.imshow(x['facedata'][0, 0], cmap=\"gray\")\n",
    "plt.show()"
   ]
  },
  {
   "cell_type": "code",
   "execution_count": 9,
   "metadata": {},
   "outputs": [],
   "source": [
    "xf = {}\n",
    "for i in range(x['facedata'].shape[0]):\n",
    "    for j in range(x['facedata'].shape[1]):\n",
    "        xf[i, j] = img_as_float(x['facedata'][i, j])"
   ]
  },
  {
   "cell_type": "code",
   "execution_count": 10,
   "metadata": {},
   "outputs": [],
   "source": [
    "def mat_to_vec(m):\n",
    "    return m.reshape(1, -1)\n",
    "def euclidean_dist(t, d):\n",
    "    return np.sqrt(np.sum((t - d)**2))"
   ]
  },
  {
   "cell_type": "code",
   "execution_count": 23,
   "metadata": {},
   "outputs": [
    {
     "data": {
      "text/plain": [
       "10.037616294165492"
      ]
     },
     "execution_count": 23,
     "metadata": {},
     "output_type": "execute_result"
    }
   ],
   "source": [
    "euclidean_dist(mat_to_vec(xf[0, 0]), mat_to_vec(xf[0, 1]))"
   ]
  },
  {
   "cell_type": "code",
   "execution_count": 24,
   "metadata": {},
   "outputs": [
    {
     "data": {
      "text/plain": [
       "8.173295099737281"
      ]
     },
     "execution_count": 24,
     "metadata": {},
     "output_type": "execute_result"
    }
   ],
   "source": [
    "euclidean_dist(mat_to_vec(xf[0, 0]), mat_to_vec(xf[1, 0]))"
   ]
  },
  {
   "cell_type": "markdown",
   "metadata": {},
   "source": [
    "## T6"
   ]
  },
  {
   "cell_type": "code",
   "execution_count": 11,
   "metadata": {},
   "outputs": [],
   "source": [
    "def similar_mat(T, D):\n",
    "    A = np.zeros((T.shape[0], D.shape[0]))\n",
    "    for i, t in enumerate(T):\n",
    "        for j, d in enumerate(D):\n",
    "            A[i, j] = euclidean_dist(mat_to_vec(t), mat_to_vec(d))\n",
    "    return A"
   ]
  },
  {
   "cell_type": "code",
   "execution_count": 12,
   "metadata": {},
   "outputs": [],
   "source": [
    "T = []\n",
    "D = []\n",
    "for i in range(40):\n",
    "    for j in range(3):\n",
    "        T.append(xf[i, j])\n",
    "    for j in range(3, 10):\n",
    "        D.append(xf[i, j])\n",
    "T = np.array(T)\n",
    "D = np.array(D)\n",
    "\n",
    "A = similar_mat(T, D)"
   ]
  },
  {
   "cell_type": "code",
   "execution_count": 13,
   "metadata": {},
   "outputs": [
    {
     "data": {
      "image/png": "[encoded data removed]",
      "text/plain": [
       "<Figure size 432x288 with 1 Axes>"
      ]
     },
     "metadata": {
      "needs_background": "light"
     },
     "output_type": "display_data"
    }
   ],
   "source": [
    "plt.imshow(A, cmap=\"gray\")\n",
    "plt.show()"
   ]
  },
  {
   "cell_type": "code",
   "execution_count": 14,
   "metadata": {
    "scrolled": true
   },
   "outputs": [
    {
     "data": {
      "image/png": "[encoded data removed]",
      "text/plain": [
       "<Figure size 432x288 with 1 Axes>"
      ]
     },
     "metadata": {
      "needs_background": "light"
     },
     "output_type": "display_data"
    }
   ],
   "source": [
    "tmp_vec = []\n",
    "for i in range(5):\n",
    "    for j in range(5):\n",
    "        tmp_vec.append(xf[i, j])\n",
    "tmp_vec = np.array(tmp_vec)\n",
    "A_tmp = similar_mat(tmp_vec, tmp_vec)\n",
    "\n",
    "plt.imshow(A_tmp, cmap=\"gray\")\n",
    "plt.show()"
   ]
  },
  {
   "cell_type": "markdown",
   "metadata": {},
   "source": [
    "## T7"
   ]
  },
  {
   "cell_type": "code",
   "execution_count": 15,
   "metadata": {},
   "outputs": [
    {
     "data": {
      "image/png": "[encoded data removed]",
      "text/plain": [
       "<Figure size 432x288 with 1 Axes>"
      ]
     },
     "metadata": {
      "needs_background": "light"
     },
     "output_type": "display_data"
    }
   ],
   "source": [
    "plt.imshow(A_tmp[5:10, 5:10], cmap=\"gray\")\n",
    "plt.show()"
   ]
  },
  {
   "cell_type": "markdown",
   "metadata": {},
   "source": [
    "## T8"
   ]
  },
  {
   "cell_type": "code",
   "execution_count": 16,
   "metadata": {},
   "outputs": [],
   "source": [
    "def report_predict(A, t):\n",
    "    tp = fp = tn = fn = 0\n",
    "    for j in range(A.shape[1]):\n",
    "        for i in range(0, A.shape[0], 3):\n",
    "            dist = np.min(A[i:i+3, j])\n",
    "            j_person = j // 7\n",
    "            i_person = i // 3\n",
    "            predict = 1.0 if dist < t else 0.0\n",
    "            if predict == 1.0 and i_person == j_person:\n",
    "                tp += 1\n",
    "            elif predict == 1.0 and i_person != j_person:\n",
    "                fp += 1\n",
    "            elif predict == 0.0 and i_person == j_person:\n",
    "                fn += 1\n",
    "            elif predict == 0.0 and i_person != j_person:\n",
    "                tn += 1\n",
    "    tpr = tp / (tp + fn)\n",
    "    fpr = fp / (fp + tn)\n",
    "    return np.array([tpr, fpr])"
   ]
  },
  {
   "cell_type": "code",
   "execution_count": 17,
   "metadata": {},
   "outputs": [
    {
     "data": {
      "text/plain": [
       "array([0.99642857, 0.45641026])"
      ]
     },
     "execution_count": 17,
     "metadata": {},
     "output_type": "execute_result"
    }
   ],
   "source": [
    "report_predict(A, 10)"
   ]
  },
  {
   "cell_type": "code",
   "execution_count": 30,
   "metadata": {},
   "outputs": [
    {
     "data": {
      "text/plain": [
       "array([0.73928571, 0.00677656])"
      ]
     },
     "execution_count": 30,
     "metadata": {},
     "output_type": "execute_result"
    }
   ],
   "source": [
    "report_predict(A, 6.703135)"
   ]
  },
  {
   "cell_type": "markdown",
   "metadata": {},
   "source": [
    "## T9 & T10"
   ]
  },
  {
   "cell_type": "code",
   "execution_count": 36,
   "metadata": {},
   "outputs": [],
   "source": [
    "def t9t10_roc(A, start, end, amount):\n",
    "    t_range = np.linspace(start, end, amount)\n",
    "    roc = np.array([report_predict(A, t) for t in tqdm_notebook(t_range)])\n",
    "    # Show Result\n",
    "    plt.plot(roc[:, 1], roc[:, 0])\n",
    "    plt.title(\"RoC Curve\")\n",
    "    plt.xlabel(\"FPR\")\n",
    "    plt.ylabel(\"TPR\")\n",
    "    plt.show()\n",
    "    # Finding Recall at 0.1% false alarm rate\n",
    "    recall = roc[(roc[:, 1] >= 0.00095) & (roc[:, 1] <= 0.00105)][0][0]\n",
    "    print(\"At 0.1% FPR, Recall is\", recall)\n",
    "    # Finding EER\n",
    "    eer = roc[np.abs(roc[:, 1] - 1 + roc[:, 0]) <= 0.001][0]\n",
    "    print(f\"EER is at TPR = {eer[0]} and FPR = {eer[1]}\")"
   ]
  },
  {
   "cell_type": "code",
   "execution_count": 37,
   "metadata": {},
   "outputs": [
    {
     "data": {
      "application/vnd.jupyter.widget-view+json": {
       "model_id": "1a9a7e2836ca48029dbb6efe3561b97e",
       "version_major": 2,
       "version_minor": 0
      },
      "text/plain": [
       "HBox(children=(IntProgress(value=0, max=2000), HTML(value='')))"
      ]
     },
     "metadata": {},
     "output_type": "display_data"
    },
    {
     "name": "stdout",
     "output_type": "stream",
     "text": [
      "\n"
     ]
    },
    {
     "data": {
      "image/png": "[encoded data removed]",
      "text/plain": [
       "<Figure size 432x288 with 1 Axes>"
      ]
     },
     "metadata": {
      "needs_background": "light"
     },
     "output_type": "display_data"
    },
    {
     "name": "stdout",
     "output_type": "stream",
     "text": [
      "At 0.1% FPR, Recall is 0.5428571428571428\n",
      "EER is at TPR = 0.9107142857142857 and FPR = 0.0891941391941392\n"
     ]
    }
   ],
   "source": [
    "t9t10_roc(A, 5, 10, 2000)"
   ]
  },
  {
   "cell_type": "markdown",
   "metadata": {},
   "source": [
    "## T11"
   ]
  },
  {
   "cell_type": "code",
   "execution_count": 50,
   "metadata": {},
   "outputs": [
    {
     "data": {
      "image/png": "[encoded data removed]",
      "text/plain": [
       "<Figure size 432x288 with 1 Axes>"
      ]
     },
     "metadata": {
      "needs_background": "light"
     },
     "output_type": "display_data"
    }
   ],
   "source": [
    "T_v = np.array([mat_to_vec(t)[0] for t in T])\n",
    "T_v_mean = T_v.mean(axis=0)\n",
    "plt.imshow(T_v_mean.reshape(56, 46), cmap=\"gray\")\n",
    "plt.show()"
   ]
  },
  {
   "cell_type": "code",
   "execution_count": 65,
   "metadata": {},
   "outputs": [],
   "source": [
    "X = T_v.T\n",
    "X_caret = X - T_v_mean.reshape(-1, 1)"
   ]
  },
  {
   "cell_type": "markdown",
   "metadata": {},
   "source": [
    "## T12"
   ]
  },
  {
   "cell_type": "code",
   "execution_count": 57,
   "metadata": {
    "scrolled": true
   },
   "outputs": [
    {
     "name": "stdout",
     "output_type": "stream",
     "text": [
      "Size of covariance matrix is 2576 x 2576\n",
      "Rank is at most 119\n"
     ]
    }
   ],
   "source": [
    "print(f\"Size of covariance matrix is {len(T_v_mean)} x {len(T_v_mean)}\")\n",
    "print(f\"Rank is at most {T_v.shape[0] - 1}\")"
   ]
  },
  {
   "cell_type": "code",
   "execution_count": 68,
   "metadata": {},
   "outputs": [
    {
     "name": "stdout",
     "output_type": "stream",
     "text": [
      "Gram matrix size is 120 x 120\n"
     ]
    }
   ],
   "source": [
    "print(f\"Gram matrix size is {X_caret.shape[1]} x {X_caret.shape[1]}\")"
   ]
  },
  {
   "cell_type": "markdown",
   "metadata": {},
   "source": [
    "## T13"
   ]
  },
  {
   "cell_type": "markdown",
   "metadata": {},
   "source": [
    "## T14"
   ]
  },
  {
   "cell_type": "markdown",
   "metadata": {},
   "source": [
    "## T15"
   ]
  },
  {
   "cell_type": "code",
   "execution_count": 99,
   "metadata": {},
   "outputs": [],
   "source": [
    "gram_mat = X_caret.T.dot(X_caret)\n",
    "eigen_val, eigen_vec = np.linalg.eig(gram_mat)"
   ]
  },
  {
   "cell_type": "code",
   "execution_count": 100,
   "metadata": {},
   "outputs": [],
   "source": [
    "# Just a bubble sort\n",
    "for i in range(eigen_val.shape[0] - 1):\n",
    "    for j in range(eigen_val.shape[0] - 1 - i):\n",
    "        if eigen_val[j] < eigen_val[j + 1]:\n",
    "            eigen_val[j], eigen_val[j + 1] = eigen_val[j + 1], eigen_val[j]\n",
    "            eigen_vec[j], eigen_vec[j + 1] = eigen_vec[j + 1].copy(), eigen_vec[j].copy()"
   ]
  },
  {
   "cell_type": "markdown",
   "metadata": {},
   "source": [
    "## T16"
   ]
  },
  {
   "cell_type": "code",
   "execution_count": 107,
   "metadata": {},
   "outputs": [
    {
     "data": {
      "image/png": "[encoded data removed]",
      "text/plain": [
       "<Figure size 432x288 with 1 Axes>"
      ]
     },
     "metadata": {
      "needs_background": "light"
     },
     "output_type": "display_data"
    }
   ],
   "source": [
    "plt.plot(np.linspace(1, eigen_val.shape[0], eigen_val.shape[0]), eigen_val)\n",
    "plt.show()"
   ]
  },
  {
   "cell_type": "code",
   "execution_count": null,
   "metadata": {},
   "outputs": [],
   "source": []
  }
 ],
 "metadata": {
  "kernelspec": {
   "display_name": "Python 3",
   "language": "python",
   "name": "python3"
  },
  "language_info": {
   "codemirror_mode": {
    "name": "ipython",
    "version": 3
   },
   "file_extension": ".py",
   "mimetype": "text/x-python",
   "name": "python",
   "nbconvert_exporter": "python",
   "pygments_lexer": "ipython3",
   "version": "3.6.3"
  }
 },
 "nbformat": 4,
 "nbformat_minor": 1
}
