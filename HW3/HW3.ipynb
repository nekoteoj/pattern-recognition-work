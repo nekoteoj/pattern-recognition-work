{
 "cells": [
  {
   "cell_type": "code",
   "execution_count": 1,
   "metadata": {},
   "outputs": [],
   "source": [
    "import numpy as np\n",
    "import pandas as pd\n",
    "import matplotlib.pyplot as plt\n",
    "import matplotlib.image as mpimg\n",
    "import scipy.io\n",
    "\n",
    "from skimage import img_as_float\n",
    "from tqdm import tqdm_notebook"
   ]
  },
  {
   "cell_type": "markdown",
   "metadata": {},
   "source": [
    "## T1"
   ]
  },
  {
   "cell_type": "code",
   "execution_count": 2,
   "metadata": {},
   "outputs": [],
   "source": [
    "def gaussian_eq(x, mean, var):\n",
    "    return np.diagonal(np.exp(-0.5 * (x - mean).dot(np.linalg.inv(var)).dot((x - mean).T))\n",
    "                       / np.sqrt(2*np.pi * np.linalg.det(var)))\n",
    "\n",
    "def soft_em(data, k, means, iters):\n",
    "    # Initialize step\n",
    "    m = np.array([1/k] * k, dtype=float)\n",
    "    var = np.array([np.identity(2) for i in range(k)], dtype=float)\n",
    "    \n",
    "    for it in range(iters):\n",
    "        # Expectation\n",
    "        w = np.zeros((data.shape[0], k))\n",
    "        for j in range(k):\n",
    "            w[:, j] = gaussian_eq(data, means[j], var[j]) * m[j]\n",
    "        w = np.divide(w, np.sum(w, axis=1)[:, None])\n",
    "        \n",
    "        # Maximization\n",
    "        for j in range(k):\n",
    "            m[j] = w[:, j].sum() / data.shape[0]\n",
    "            var_j = np.zeros((2, 2))\n",
    "            for i in range(data.shape[0]):\n",
    "                var_j += w[i, j] * (data[i] - mean[j]).T.dot(data[i] - mean[j])\n",
    "            var_j /= np.sum(w[:, j])\n",
    "            var_j[0, 1] = var_j[1, 0] = 0\n",
    "            var[j] = var_j\n",
    "            mean[j] = np.sum(data * w[:, j].reshape(-1, 1)) / np.sum(w[:, j])\n",
    "            \n",
    "        # Display Result\n",
    "        print(\"Iteration: \", it)\n",
    "        print(\"w: \", w)\n",
    "        print(\"m: \", m)\n",
    "        print(\"Cov: \", var)\n",
    "        print(\"\\n\", \"=\"*50, \"\\n\")\n",
    "    return w"
   ]
  },
  {
   "cell_type": "code",
   "execution_count": 3,
   "metadata": {},
   "outputs": [
    {
     "data": {
      "text/plain": [
       "array([[ 1,  2],\n",
       "       [ 3,  3],\n",
       "       [ 2,  2],\n",
       "       [ 8,  8],\n",
       "       [ 6,  6],\n",
       "       [ 7,  7],\n",
       "       [-3, -3],\n",
       "       [-2, -4],\n",
       "       [-7, -7]])"
      ]
     },
     "execution_count": 3,
     "metadata": {},
     "output_type": "execute_result"
    }
   ],
   "source": [
    "data_x = np.array([1, 3, 2, 8, 6, 7, -3, -2, -7])\n",
    "data_y = np.array([2, 3, 2, 8, 6, 7, -3, -4, -7])\n",
    "data = np.array([data_x, data_y]).T\n",
    "data"
   ]
  },
  {
   "cell_type": "code",
   "execution_count": 4,
   "metadata": {},
   "outputs": [
    {
     "data": {
      "text/plain": [
       "array([[ 3,  3],\n",
       "       [ 2,  2],\n",
       "       [-3, -3]])"
      ]
     },
     "execution_count": 4,
     "metadata": {},
     "output_type": "execute_result"
    }
   ],
   "source": [
    "mean_x = np.array([3, 2, -3])\n",
    "mean_y = np.array([3, 2, -3])\n",
    "mean = np.array([mean_x, mean_y]).T\n",
    "mean"
   ]
  },
  {
   "cell_type": "code",
   "execution_count": 5,
   "metadata": {
    "scrolled": true
   },
   "outputs": [
    {
     "name": "stdout",
     "output_type": "stream",
     "text": [
      "Iteration:  0\n",
      "w:  [[1.19202922e-01 8.80797076e-01 1.81545808e-09]\n",
      " [7.31058579e-01 2.68941421e-01 1.69570706e-16]\n",
      " [2.68941421e-01 7.31058579e-01 1.01529005e-11]\n",
      " [9.99983299e-01 1.67014218e-05 2.03105874e-42]\n",
      " [9.99088949e-01 9.11051194e-04 5.37528453e-32]\n",
      " [9.99876605e-01 1.23394576e-04 3.30529272e-37]\n",
      " [2.31952283e-16 1.38879439e-11 1.00000000e+00]\n",
      " [2.31952283e-16 1.38879439e-11 1.00000000e+00]\n",
      " [3.30570063e-37 5.90009054e-29 1.00000000e+00]]\n",
      "m:  [0.45757242 0.20909425 0.33333333]\n",
      "Cov:  [[[24.55293548  0.        ]\n",
      "  [ 0.         24.55293548]]\n",
      "\n",
      " [[ 0.77328542  0.        ]\n",
      "  [ 0.          0.77328542]]\n",
      "\n",
      " [[11.33333335  0.        ]\n",
      "  [ 0.         11.33333335]]]\n",
      "\n",
      " ================================================== \n",
      "\n",
      "Iteration:  1\n",
      "w:  [[4.19395510e-02 9.57161798e-01 8.98651358e-04]\n",
      " [5.05955731e-03 9.94937945e-01 2.49794320e-06]\n",
      " [9.18771589e-03 9.90754462e-01 5.78225470e-05]\n",
      " [1.00000000e+00 1.90667375e-13 3.52704929e-10]\n",
      " [9.99645793e-01 3.54072158e-04 1.34732744e-07]\n",
      " [9.99999964e-01 2.87538099e-08 7.23021595e-09]\n",
      " [1.95938980e-03 5.03758380e-19 9.98040610e-01]\n",
      " [2.05452513e-03 1.50965773e-19 9.97945475e-01]\n",
      " [1.28592129e-06 6.91117226e-56 9.99998714e-01]]\n",
      "m:  [0.33998309 0.32702314 0.33299377]\n",
      "Cov:  [[[36.37036397  0.        ]\n",
      "  [ 0.         36.37036397]]\n",
      "\n",
      " [[ 2.30146542  0.        ]\n",
      "  [ 0.          2.30146542]]\n",
      "\n",
      " [[34.69203188  0.        ]\n",
      "  [ 0.         34.69203188]]]\n",
      "\n",
      " ================================================== \n",
      "\n",
      "Iteration:  2\n",
      "w:  [[2.60685677e-02 8.98621635e-01 7.53097970e-02]\n",
      " [6.43522608e-03 9.90406841e-01 3.15793339e-03]\n",
      " [1.29773921e-02 9.66241192e-01 2.07814160e-02]\n",
      " [9.70694894e-01 2.80681651e-02 1.23694060e-03]\n",
      " [8.85135148e-02 9.10256299e-01 1.23018654e-03]\n",
      " [5.48413126e-01 4.49275877e-01 2.31099635e-03]\n",
      " [1.75322536e-03 1.72226627e-08 9.98246757e-01]\n",
      " [1.75555488e-03 1.14792732e-08 9.98244434e-01]\n",
      " [1.67748616e-05 2.23748728e-22 9.99983225e-01]]\n",
      "m:  [0.18406981 0.47143    0.34450019]\n",
      "Cov:  [[[66.30575299  0.        ]\n",
      "  [ 0.         66.30575299]]\n",
      "\n",
      " [[ 8.87607314  0.        ]\n",
      "  [ 0.          8.87607314]]\n",
      "\n",
      " [[40.16385053  0.        ]\n",
      "  [ 0.         40.16385053]]]\n",
      "\n",
      " ================================================== \n",
      "\n"
     ]
    }
   ],
   "source": [
    "w = soft_em(data, 3, mean, 3)"
   ]
  },
  {
   "cell_type": "code",
   "execution_count": 6,
   "metadata": {},
   "outputs": [
    {
     "data": {
      "image/png": "[encoded data removed]",
      "text/plain": [
       "<Figure size 432x288 with 1 Axes>"
      ]
     },
     "metadata": {
      "needs_background": "light"
     },
     "output_type": "display_data"
    }
   ],
   "source": [
    "clusters = [[] for i in range(w.shape[1])]\n",
    "for i, row in enumerate(w):\n",
    "    clusters[np.argmax(row)].append(data[i])\n",
    "for i, cluster in enumerate(clusters):\n",
    "    cluster = np.array(cluster)\n",
    "    plt.scatter(cluster[:, 0], cluster[:, 1], color=[\"red\", \"green\", \"blue\"][i])\n",
    "plt.show()"
   ]
  },
  {
   "cell_type": "markdown",
   "metadata": {
    "collapsed": true
   },
   "source": [
    "# The face database"
   ]
  },
  {
   "cell_type": "code",
   "execution_count": 7,
   "metadata": {},
   "outputs": [],
   "source": [
    "x = scipy.io.loadmat(\"facedata.mat\")"
   ]
  },
  {
   "cell_type": "code",
   "execution_count": 8,
   "metadata": {},
   "outputs": [
    {
     "data": {
      "image/png": "[encoded data removed]",
      "text/plain": [
       "<Figure size 432x288 with 1 Axes>"
      ]
     },
     "metadata": {
      "needs_background": "light"
     },
     "output_type": "display_data"
    }
   ],
   "source": [
    "plt.imshow(x['facedata'][0, 0], cmap=\"gray\")\n",
    "plt.show()"
   ]
  },
  {
   "cell_type": "code",
   "execution_count": 9,
   "metadata": {},
   "outputs": [],
   "source": [
    "xf = {}\n",
    "for i in range(x['facedata'].shape[0]):\n",
    "    for j in range(x['facedata'].shape[1]):\n",
    "        xf[i, j] = img_as_float(x['facedata'][i, j])"
   ]
  },
  {
   "cell_type": "code",
   "execution_count": 10,
   "metadata": {},
   "outputs": [],
   "source": [
    "def mat_to_vec(m):\n",
    "    return m.reshape(1, -1)\n",
    "def euclidean_dist(t, d):\n",
    "    return np.sqrt(np.sum((t - d)**2))"
   ]
  },
  {
   "cell_type": "markdown",
   "metadata": {},
   "source": [
    "## T6"
   ]
  },
  {
   "cell_type": "code",
   "execution_count": 11,
   "metadata": {},
   "outputs": [],
   "source": [
    "def similar_mat(T, D):\n",
    "    A = np.zeros((T.shape[0], D.shape[0]))\n",
    "    for i, t in enumerate(T):\n",
    "        for j, d in enumerate(D):\n",
    "            A[i, j] = euclidean_dist(mat_to_vec(t), mat_to_vec(d))\n",
    "    return A"
   ]
  },
  {
   "cell_type": "code",
   "execution_count": 12,
   "metadata": {},
   "outputs": [],
   "source": [
    "T = []\n",
    "D = []\n",
    "for i in range(40):\n",
    "    for j in range(3):\n",
    "        T.append(xf[i, j])\n",
    "    for j in range(3, 10):\n",
    "        D.append(xf[i, j])\n",
    "T = np.array(T)\n",
    "D = np.array(D)\n",
    "\n",
    "A = similar_mat(T, D)"
   ]
  },
  {
   "cell_type": "code",
   "execution_count": 13,
   "metadata": {},
   "outputs": [
    {
     "data": {
      "image/png": "[encoded data removed]",
      "text/plain": [
       "<Figure size 432x288 with 1 Axes>"
      ]
     },
     "metadata": {
      "needs_background": "light"
     },
     "output_type": "display_data"
    }
   ],
   "source": [
    "plt.imshow(A, cmap=\"gray\")\n",
    "plt.show()"
   ]
  },
  {
   "cell_type": "code",
   "execution_count": 14,
   "metadata": {
    "scrolled": true
   },
   "outputs": [
    {
     "data": {
      "image/png": "[encoded data removed]",
      "text/plain": [
       "<Figure size 432x288 with 1 Axes>"
      ]
     },
     "metadata": {
      "needs_background": "light"
     },
     "output_type": "display_data"
    }
   ],
   "source": [
    "tmp_vec = []\n",
    "for i in range(5):\n",
    "    for j in range(5):\n",
    "        tmp_vec.append(xf[i, j])\n",
    "tmp_vec = np.array(tmp_vec)\n",
    "A_tmp = similar_mat(tmp_vec, tmp_vec)\n",
    "\n",
    "plt.imshow(A_tmp, cmap=\"gray\")\n",
    "plt.show()"
   ]
  },
  {
   "cell_type": "markdown",
   "metadata": {},
   "source": [
    "## T7"
   ]
  },
  {
   "cell_type": "code",
   "execution_count": 15,
   "metadata": {},
   "outputs": [
    {
     "data": {
      "image/png": "[encoded data removed]",
      "text/plain": [
       "<Figure size 432x288 with 1 Axes>"
      ]
     },
     "metadata": {
      "needs_background": "light"
     },
     "output_type": "display_data"
    }
   ],
   "source": [
    "plt.imshow(A_tmp[5:10, 5:10], cmap=\"gray\")\n",
    "plt.show()"
   ]
  },
  {
   "cell_type": "markdown",
   "metadata": {},
   "source": [
    "## T8"
   ]
  },
  {
   "cell_type": "code",
   "execution_count": 16,
   "metadata": {},
   "outputs": [],
   "source": [
    "def report_predict(A, t):\n",
    "    tp = fp = tn = fn = 0\n",
    "    for j in range(A.shape[1]):\n",
    "        for i in range(0, A.shape[0], 3):\n",
    "            dist = np.min(A[i:i+3, j])\n",
    "            j_person = j // 7\n",
    "            i_person = i // 3\n",
    "            predict = 1.0 if dist < t else 0.0\n",
    "            if predict == 1.0 and i_person == j_person:\n",
    "                tp += 1\n",
    "            elif predict == 1.0 and i_person != j_person:\n",
    "                fp += 1\n",
    "            elif predict == 0.0 and i_person == j_person:\n",
    "                fn += 1\n",
    "            elif predict == 0.0 and i_person != j_person:\n",
    "                tn += 1\n",
    "    tpr = tp / (tp + fn)\n",
    "    fpr = fp / (fp + tn)\n",
    "    return np.array([tpr, fpr])"
   ]
  },
  {
   "cell_type": "code",
   "execution_count": 17,
   "metadata": {},
   "outputs": [
    {
     "data": {
      "text/plain": [
       "array([0.99642857, 0.45641026])"
      ]
     },
     "execution_count": 17,
     "metadata": {},
     "output_type": "execute_result"
    }
   ],
   "source": [
    "report_predict(A, 10)"
   ]
  },
  {
   "cell_type": "markdown",
   "metadata": {},
   "source": [
    "## T9 & T10"
   ]
  },
  {
   "cell_type": "code",
   "execution_count": 18,
   "metadata": {},
   "outputs": [
    {
     "data": {
      "application/vnd.jupyter.widget-view+json": {
       "model_id": "4759abf00f7c47b89942a13103d2eec3",
       "version_major": 2,
       "version_minor": 0
      },
      "text/plain": [
       "HBox(children=(IntProgress(value=0, max=1000), HTML(value='')))"
      ]
     },
     "metadata": {},
     "output_type": "display_data"
    },
    {
     "name": "stdout",
     "output_type": "stream",
     "text": [
      "\n"
     ]
    }
   ],
   "source": [
    "t_range = np.linspace(5, 10, 1000)\n",
    "roc = np.array([report_predict(A, t) for t in tqdm_notebook(t_range)])"
   ]
  },
  {
   "cell_type": "code",
   "execution_count": 19,
   "metadata": {},
   "outputs": [
    {
     "data": {
      "image/png": "[encoded data removed]",
      "text/plain": [
       "<Figure size 432x288 with 1 Axes>"
      ]
     },
     "metadata": {
      "needs_background": "light"
     },
     "output_type": "display_data"
    }
   ],
   "source": [
    "plt.plot(roc[:, 1], roc[:, 0])\n",
    "plt.title(\"RoC Curve\")\n",
    "plt.xlabel(\"FPR\")\n",
    "plt.ylabel(\"TPR\")\n",
    "plt.show()"
   ]
  },
  {
   "cell_type": "code",
   "execution_count": 20,
   "metadata": {},
   "outputs": [
    {
     "data": {
      "text/plain": [
       "array([[0.54285714, 0.00100733],\n",
       "       [0.54642857, 0.00100733],\n",
       "       [0.54642857, 0.00100733]])"
      ]
     },
     "execution_count": 20,
     "metadata": {},
     "output_type": "execute_result"
    }
   ],
   "source": [
    "roc[(roc[:, 1] >= 0.00095) & (roc[:, 1] <= 0.00105)]"
   ]
  },
  {
   "cell_type": "code",
   "execution_count": 21,
   "metadata": {},
   "outputs": [
    {
     "data": {
      "text/plain": [
       "array([[0.91071429, 0.08956044],\n",
       "       [0.91071429, 0.08992674]])"
      ]
     },
     "execution_count": 21,
     "metadata": {},
     "output_type": "execute_result"
    }
   ],
   "source": [
    "roc[np.abs(roc[:, 1] - 1 + roc[:, 0]) <= 0.001]"
   ]
  },
  {
   "cell_type": "code",
   "execution_count": 22,
   "metadata": {},
   "outputs": [
    {
     "data": {
      "text/plain": [
       "array([0.29285714, 0.29285714, 0.29285714, 0.29285714, 0.29285714,\n",
       "       0.29285714, 0.29285714, 0.29285714, 0.29285714, 0.29285714,\n",
       "       0.29642857, 0.29642857, 0.3       , 0.30357143, 0.30357143,\n",
       "       0.31071429, 0.31428571, 0.31785714, 0.32142857, 0.32142857,\n",
       "       0.32857143, 0.33214286, 0.33571429, 0.33571429, 0.33571429,\n",
       "       0.33928571, 0.33928571, 0.33928571, 0.33928571, 0.33928571,\n",
       "       0.33928571, 0.34285714, 0.34285714, 0.34276557, 0.34276557,\n",
       "       0.34276557, 0.34276557, 0.34276557, 0.34276557, 0.346337  ,\n",
       "       0.346337  , 0.346337  , 0.346337  , 0.35347985, 0.35705128,\n",
       "       0.35705128, 0.36062271, 0.36062271, 0.36062271, 0.36062271,\n",
       "       0.36419414, 0.36419414, 0.36776557, 0.36776557, 0.36767399,\n",
       "       0.37124542, 0.37124542, 0.37124542, 0.37124542, 0.37124542,\n",
       "       0.37481685, 0.37481685, 0.37481685, 0.38195971, 0.38195971,\n",
       "       0.38195971, 0.38195971, 0.38195971, 0.38195971, 0.38195971,\n",
       "       0.38195971, 0.38195971, 0.38195971, 0.38553114, 0.38553114,\n",
       "       0.39267399, 0.39981685, 0.39981685, 0.39981685, 0.39981685,\n",
       "       0.39981685, 0.40338828, 0.40338828, 0.40338828, 0.40338828,\n",
       "       0.40338828, 0.40338828, 0.40338828, 0.40338828, 0.40338828,\n",
       "       0.40695971, 0.40695971, 0.40695971, 0.40695971, 0.41053114,\n",
       "       0.41053114, 0.41053114, 0.41410256, 0.41410256, 0.41758242,\n",
       "       0.41758242, 0.41758242, 0.42115385, 0.42115385, 0.42115385,\n",
       "       0.42472527, 0.43186813, 0.43186813, 0.43186813, 0.43186813,\n",
       "       0.43186813, 0.43186813, 0.43543956, 0.43901099, 0.43901099,\n",
       "       0.43901099, 0.43901099, 0.44258242, 0.44258242, 0.44258242,\n",
       "       0.44258242, 0.44258242, 0.44615385, 0.44615385, 0.44615385,\n",
       "       0.44615385, 0.4532967 , 0.45320513, 0.45677656, 0.45677656,\n",
       "       0.46034799, 0.46034799, 0.46034799, 0.46034799, 0.46391941,\n",
       "       0.46749084, 0.46749084, 0.46749084, 0.46749084, 0.46739927,\n",
       "       0.46739927, 0.46739927, 0.46739927, 0.46739927, 0.46739927,\n",
       "       0.4709707 , 0.4709707 , 0.47811355, 0.47811355, 0.47811355,\n",
       "       0.47811355, 0.48168498, 0.48168498, 0.48159341, 0.48159341,\n",
       "       0.48159341, 0.48873626, 0.48873626, 0.49587912, 0.49587912,\n",
       "       0.49587912, 0.49945055, 0.50302198, 0.50659341, 0.50659341,\n",
       "       0.51016484, 0.51373626, 0.51373626, 0.51373626, 0.51373626,\n",
       "       0.51373626, 0.51730769, 0.51730769, 0.51730769, 0.51730769,\n",
       "       0.51730769, 0.51730769, 0.51730769, 0.51730769, 0.52087912,\n",
       "       0.52445055, 0.52445055, 0.52445055, 0.52802198, 0.52783883,\n",
       "       0.52783883, 0.53498168, 0.54203297, 0.54203297, 0.54194139,\n",
       "       0.54184982, 0.54542125, 0.54542125, 0.5489011 , 0.55604396,\n",
       "       0.55604396, 0.55961538, 0.56318681, 0.56675824, 0.56666667,\n",
       "       0.56657509, 0.56657509, 0.56657509, 0.56657509, 0.56657509,\n",
       "       0.56648352, 0.56648352, 0.56648352, 0.57005495, 0.57005495,\n",
       "       0.57362637, 0.57362637, 0.57362637, 0.5735348 , 0.5735348 ,\n",
       "       0.5735348 , 0.57344322, 0.57344322, 0.57344322, 0.57344322,\n",
       "       0.58058608, 0.58058608, 0.58058608, 0.58058608, 0.58058608,\n",
       "       0.58058608, 0.58058608, 0.58415751, 0.58415751, 0.58415751,\n",
       "       0.58772894, 0.58772894, 0.58763736, 0.58763736, 0.58754579,\n",
       "       0.58754579, 0.58754579, 0.58754579, 0.58745421, 0.59102564,\n",
       "       0.59102564, 0.59102564, 0.59102564, 0.59459707, 0.59459707,\n",
       "       0.59459707, 0.59459707, 0.5981685 , 0.5981685 , 0.60173993,\n",
       "       0.60531136, 0.60531136, 0.60531136, 0.60888278, 0.60888278,\n",
       "       0.61245421, 0.61236264, 0.61236264, 0.61227106, 0.61227106,\n",
       "       0.61227106, 0.61227106, 0.61227106, 0.61584249, 0.61941392,\n",
       "       0.62298535, 0.62655678, 0.62655678, 0.6264652 , 0.63003663,\n",
       "       0.63360806, 0.63351648, 0.63351648, 0.63342491, 0.63699634,\n",
       "       0.64047619, 0.64047619, 0.64047619, 0.64047619, 0.64377289,\n",
       "       0.64377289, 0.64725275, 0.64725275, 0.6543956 , 0.6543956 ,\n",
       "       0.6543956 , 0.65430403, 0.65430403, 0.65787546, 0.66144689,\n",
       "       0.66501832, 0.66858974, 0.67216117, 0.67197802, 0.67197802,\n",
       "       0.67197802, 0.67197802, 0.67188645, 0.67884615, 0.68241758,\n",
       "       0.68241758, 0.68232601, 0.68232601, 0.68580586, 0.68580586,\n",
       "       0.68928571, 0.68919414, 0.68910256, 0.68910256, 0.69624542,\n",
       "       0.69624542, 0.69606227, 0.69587912, 0.69917582, 0.69908425,\n",
       "       0.70265568, 0.7025641 , 0.70613553, 0.70604396, 0.71300366,\n",
       "       0.71291209, 0.71648352, 0.71996337, 0.71978022, 0.71968864,\n",
       "       0.71968864, 0.71959707, 0.71959707, 0.71941392, 0.71932234,\n",
       "       0.71932234, 0.71913919, 0.71895604, 0.7260989 , 0.72948718,\n",
       "       0.72930403, 0.72921245, 0.72921245, 0.72912088, 0.73269231,\n",
       "       0.73250916, 0.73241758, 0.73232601, 0.73232601, 0.73232601,\n",
       "       0.73232601, 0.73232601, 0.73223443, 0.73562271, 0.73910256,\n",
       "       0.73910256, 0.73901099, 0.74258242, 0.74249084, 0.74249084,\n",
       "       0.74249084, 0.74239927, 0.74230769, 0.74212454, 0.74203297,\n",
       "       0.74184982, 0.74166667, 0.74148352, 0.74120879, 0.74102564,\n",
       "       0.74075092, 0.74065934, 0.74056777, 0.74029304, 0.74368132,\n",
       "       0.74358974, 0.74340659, 0.74331502, 0.74322344, 0.74304029,\n",
       "       0.74294872, 0.74294872, 0.74276557, 0.74276557, 0.74276557,\n",
       "       0.74267399, 0.74249084, 0.74606227, 0.74606227, 0.74945055,\n",
       "       0.75283883, 0.7525641 , 0.75238095, 0.75238095, 0.75238095,\n",
       "       0.7521978 , 0.75192308, 0.75164835, 0.75137363, 0.75119048,\n",
       "       0.7510989 , 0.75467033, 0.75815018, 0.75787546, 0.75787546,\n",
       "       0.75769231, 0.76098901, 0.76089744, 0.76080586, 0.76071429,\n",
       "       0.76062271, 0.76053114, 0.76391941, 0.76730769, 0.76694139,\n",
       "       0.76694139, 0.76666667, 0.76666667, 0.7735348 , 0.77344322,\n",
       "       0.77344322, 0.77344322, 0.77326007, 0.77326007, 0.77673993,\n",
       "       0.77628205, 0.78324176, 0.78315018, 0.78287546, 0.78278388,\n",
       "       0.78269231, 0.78260073, 0.78241758, 0.78223443, 0.78214286,\n",
       "       0.78195971, 0.78150183, 0.78104396, 0.78443223, 0.78424908,\n",
       "       0.78406593, 0.78727106, 0.79056777, 0.79010989, 0.79358974,\n",
       "       0.79349817, 0.79313187, 0.79276557, 0.79249084, 0.79249084,\n",
       "       0.79221612, 0.79184982, 0.79175824, 0.79166667, 0.79157509,\n",
       "       0.79130037, 0.79075092, 0.79047619, 0.79029304, 0.79010989,\n",
       "       0.78974359, 0.78873626, 0.78818681, 0.78791209, 0.78754579,\n",
       "       0.78727106, 0.78708791, 0.78690476, 0.78653846, 0.78635531,\n",
       "       0.78974359, 0.78919414, 0.78891941, 0.78891941, 0.78846154,\n",
       "       0.78827839, 0.78800366, 0.78782051, 0.79093407, 0.79093407,\n",
       "       0.79047619, 0.79020147, 0.78956044, 0.78937729, 0.78928571,\n",
       "       0.78882784, 0.78855311, 0.78846154, 0.79166667, 0.79148352,\n",
       "       0.79130037, 0.79441392, 0.79413919, 0.7974359 , 0.79734432,\n",
       "       0.80064103, 0.80018315, 0.79972527, 0.79917582, 0.79899267,\n",
       "       0.7985348 , 0.79798535, 0.8014652 , 0.80119048, 0.8010989 ,\n",
       "       0.80100733, 0.8007326 , 0.80027473, 0.79981685, 0.80311355,\n",
       "       0.80274725, 0.80604396, 0.80576923, 0.80540293, 0.80860806,\n",
       "       0.80815018, 0.80787546, 0.80741758, 0.80714286, 0.80622711,\n",
       "       0.80595238, 0.80558608, 0.80549451, 0.80879121, 0.80842491,\n",
       "       0.80833333, 0.80787546, 0.80750916, 0.80695971, 0.80659341,\n",
       "       0.80631868, 0.80952381, 0.80897436, 0.80860806, 0.80815018,\n",
       "       0.81163004, 0.81144689, 0.81089744, 0.81053114, 0.81007326,\n",
       "       0.80970696, 0.80952381, 0.80924908, 0.80869963, 0.80805861,\n",
       "       0.80760073, 0.80732601, 0.80686813, 0.81016484, 0.80989011,\n",
       "       0.80943223, 0.80915751, 0.80879121, 0.80833333, 0.80805861,\n",
       "       0.80778388, 0.80686813, 0.80659341, 0.80558608, 0.80512821,\n",
       "       0.80815018, 0.80750916, 0.80695971, 0.80650183, 0.80604396,\n",
       "       0.80576923, 0.80521978, 0.80457875, 0.80750916, 0.80732601,\n",
       "       0.80668498, 0.80631868, 0.80576923, 0.80531136, 0.80512821,\n",
       "       0.80842491, 0.80815018, 0.80787546, 0.80750916, 0.80677656,\n",
       "       0.80650183, 0.80567766, 0.80485348, 0.8043956 , 0.80412088,\n",
       "       0.80375458, 0.80302198, 0.8021978 , 0.80173993, 0.80155678,\n",
       "       0.8010989 , 0.80082418, 0.80412088, 0.80741758, 0.81053114,\n",
       "       0.81007326, 0.80970696, 0.80943223, 0.81282051, 0.81217949,\n",
       "       0.81529304, 0.81510989, 0.81483516, 0.81410256, 0.81739927,\n",
       "       0.81694139, 0.81959707, 0.82628205, 0.82582418, 0.82527473,\n",
       "       0.82454212, 0.82417582, 0.82371795, 0.82289377, 0.82234432,\n",
       "       0.82152015, 0.82106227, 0.82042125, 0.82005495, 0.81950549,\n",
       "       0.81886447, 0.81822344, 0.82115385, 0.82078755, 0.8239011 ,\n",
       "       0.82344322, 0.82307692, 0.8220696 , 0.82124542, 0.82115385,\n",
       "       0.82417582, 0.82710623, 0.82673993, 0.82619048, 0.82591575,\n",
       "       0.8253663 , 0.82518315, 0.82435897, 0.82362637, 0.82307692,\n",
       "       0.8224359 , 0.8220696 , 0.82115385, 0.82032967, 0.81968864,\n",
       "       0.81895604, 0.81831502, 0.81776557, 0.81721612, 0.8202381 ,\n",
       "       0.81996337, 0.81877289, 0.81794872, 0.81758242, 0.81694139,\n",
       "       0.81657509, 0.81602564, 0.81877289, 0.81785714, 0.82078755,\n",
       "       0.82014652, 0.81923077, 0.81904762, 0.81794872, 0.81758242,\n",
       "       0.81712454, 0.81630037, 0.81538462, 0.81483516, 0.81437729,\n",
       "       0.81364469, 0.81336996, 0.81263736, 0.81565934, 0.81510989,\n",
       "       0.81410256, 0.81364469, 0.81291209, 0.81227106, 0.81172161,\n",
       "       0.81089744, 0.80998168, 0.80915751, 0.80851648, 0.80769231,\n",
       "       0.80705128, 0.80631868, 0.80558608, 0.80467033, 0.80375458,\n",
       "       0.8029304 , 0.80247253, 0.80210623, 0.80173993, 0.80091575,\n",
       "       0.79990842, 0.79908425, 0.8021978 , 0.80155678, 0.80091575,\n",
       "       0.80045788, 0.79981685, 0.7989011 , 0.79835165, 0.79761905,\n",
       "       0.79679487, 0.79606227, 0.7952381 , 0.79432234, 0.79358974,\n",
       "       0.79642857, 0.7989011 , 0.79844322, 0.79734432, 0.7967033 ,\n",
       "       0.79615385, 0.79578755, 0.7952381 , 0.79487179, 0.79423077,\n",
       "       0.79340659, 0.79258242, 0.79212454, 0.79102564, 0.79423077,\n",
       "       0.79404762, 0.79349817, 0.79249084, 0.79844322, 0.79807692,\n",
       "       0.79734432, 0.79688645, 0.796337  , 0.79478022, 0.79386447,\n",
       "       0.79294872, 0.79212454, 0.79175824, 0.79075092, 0.78956044,\n",
       "       0.78846154, 0.79157509, 0.79010989, 0.78928571, 0.78836996,\n",
       "       0.78708791, 0.78626374, 0.78516484, 0.78415751, 0.78333333,\n",
       "       0.78232601, 0.78122711, 0.78067766, 0.77948718, 0.77893773,\n",
       "       0.77820513, 0.77738095, 0.77628205, 0.77564103, 0.775     ,\n",
       "       0.77445055, 0.77399267, 0.7731685 , 0.77225275, 0.77152015,\n",
       "       0.77051282, 0.76923077, 0.76822344, 0.76730769, 0.76675824,\n",
       "       0.76584249, 0.76465201, 0.76382784, 0.76309524, 0.76208791,\n",
       "       0.76089744, 0.75998168, 0.75833333, 0.76089744, 0.76007326,\n",
       "       0.76282051, 0.76190476, 0.76135531, 0.76053114, 0.75924908,\n",
       "       0.75796703, 0.75705128, 0.75595238, 0.75851648, 0.75750916,\n",
       "       0.75631868, 0.75934066, 0.75851648, 0.75723443, 0.75650183,\n",
       "       0.75595238, 0.75531136, 0.75448718, 0.753663  , 0.75238095,\n",
       "       0.75137363, 0.75      , 0.74899267, 0.7478022 , 0.75347985,\n",
       "       0.75265568, 0.75155678, 0.75091575, 0.7507326 , 0.74990842,\n",
       "       0.74899267, 0.74835165, 0.7467033 , 0.74587912, 0.74496337,\n",
       "       0.74413919, 0.74313187, 0.74212454, 0.74120879, 0.73965201,\n",
       "       0.73818681, 0.73717949, 0.73617216, 0.73543956, 0.73772894,\n",
       "       0.73635531, 0.73525641, 0.73415751, 0.73360806, 0.73278388,\n",
       "       0.73186813, 0.73086081, 0.7297619 , 0.72847985, 0.72738095,\n",
       "       0.72628205, 0.72912088, 0.72847985, 0.72701465, 0.72591575,\n",
       "       0.72490842, 0.7235348 , 0.72261905, 0.72124542, 0.7206044 ,\n",
       "       0.71932234, 0.71776557, 0.71666667, 0.71565934, 0.71401099,\n",
       "       0.71282051, 0.71172161, 0.71117216, 0.70998168, 0.70851648,\n",
       "       0.70750916, 0.70641026, 0.70934066, 0.70833333, 0.70732601,\n",
       "       0.70558608, 0.70448718, 0.7032967 , 0.70238095, 0.70119048,\n",
       "       0.7007326 , 0.6992674 , 0.69835165, 0.69752747, 0.696337  ,\n",
       "       0.6952381 , 0.69340659, 0.69239927, 0.69111722, 0.69010989,\n",
       "       0.68928571, 0.68836996, 0.68708791, 0.68608059, 0.68516484,\n",
       "       0.68424908, 0.68269231, 0.68177656, 0.68076923, 0.67994505,\n",
       "       0.678663  , 0.67747253, 0.67591575, 0.67445055, 0.6735348 ,\n",
       "       0.6720696 , 0.67078755, 0.66996337, 0.66950549, 0.66822344,\n",
       "       0.66694139, 0.66538462, 0.66446886, 0.66373626, 0.66336996,\n",
       "       0.66217949, 0.66126374, 0.65989011, 0.65851648, 0.65796703,\n",
       "       0.65695971, 0.65558608, 0.65430403, 0.65347985, 0.65201465,\n",
       "       0.6510989 , 0.6492674 , 0.64798535, 0.64661172, 0.64532967,\n",
       "       0.64386447, 0.64276557, 0.64166667, 0.64001832, 0.63873626,\n",
       "       0.63754579, 0.63635531, 0.63534799, 0.63415751, 0.63342491,\n",
       "       0.63241758, 0.63141026, 0.63076923, 0.63012821, 0.62930403,\n",
       "       0.6282967 , 0.62747253, 0.62664835, 0.62545788, 0.62472527,\n",
       "       0.62335165, 0.62216117, 0.62115385, 0.61987179, 0.61849817,\n",
       "       0.61694139, 0.61547619, 0.61483516, 0.61382784, 0.61272894,\n",
       "       0.61199634, 0.61071429, 0.60961538, 0.60860806, 0.60805861,\n",
       "       0.60668498, 0.60503663, 0.60421245, 0.6032967 , 0.60201465,\n",
       "       0.60054945, 0.59945055, 0.59771062, 0.59615385, 0.59514652,\n",
       "       0.59395604, 0.59304029, 0.59157509, 0.59038462, 0.58891941,\n",
       "       0.58754579, 0.58598901, 0.58415751, 0.58195971, 0.58076923,\n",
       "       0.57957875, 0.57847985, 0.57728938, 0.57591575, 0.5746337 ,\n",
       "       0.5728022 , 0.57124542, 0.57069597, 0.56849817, 0.56721612,\n",
       "       0.56593407, 0.56474359, 0.56336996, 0.56236264, 0.56126374,\n",
       "       0.56016484, 0.55888278, 0.55787546, 0.55659341, 0.55540293,\n",
       "       0.55412088, 0.55302198, 0.55173993, 0.55054945, 0.54935897,\n",
       "       0.54798535, 0.5467033 , 0.54468864, 0.54377289, 0.54249084,\n",
       "       0.54157509, 0.54029304, 0.53891941, 0.54120879, 0.54001832])"
      ]
     },
     "execution_count": 22,
     "metadata": {},
     "output_type": "execute_result"
    }
   ],
   "source": [
    "np.abs(roc[:, 1] - roc[:, 0])"
   ]
  },
  {
   "cell_type": "code",
   "execution_count": null,
   "metadata": {},
   "outputs": [],
   "source": []
  }
 ],
 "metadata": {
  "kernelspec": {
   "display_name": "Python 3",
   "language": "python",
   "name": "python3"
  },
  "language_info": {
   "codemirror_mode": {
    "name": "ipython",
    "version": 3
   },
   "file_extension": ".py",
   "mimetype": "text/x-python",
   "name": "python",
   "nbconvert_exporter": "python",
   "pygments_lexer": "ipython3",
   "version": "3.7.0"
  }
 },
 "nbformat": 4,
 "nbformat_minor": 1
}
